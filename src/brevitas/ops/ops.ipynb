{
 "cells": [
  {
   "cell_type": "code",
   "execution_count": 3,
   "metadata": {},
   "outputs": [],
   "source": [
    "# TODO: Remove\n",
    "\n",
    "from typing import Tuple\n",
    "\n",
    "import torch\n",
    "from torch import Tensor\n",
    "from torch.autograd import Function\n",
    "\n",
    "from brevitas.function.ops import binary_sign\n",
    "from brevitas.function.ops import dpu_round\n",
    "from brevitas.function.ops import round_to_zero\n",
    "from brevitas.function.ops import tensor_clamp\n",
    "from brevitas.function.ops import tensor_clamp_\n",
    "\n",
    "class ScalarClampMinSteFn(Function):\n",
    "    \"\"\"\n",
    "    Autograd function that implements ``torch.clamp_min`` with a straight-through gradient estimator\n",
    "    for the gradient of y w.r.t. to x, while the gradient of y w.r.t. to ``min_val`` is always\n",
    "    ``None``.\n",
    "\n",
    "    ``ScalarClampMinSteFn.apply(*args)`` is first aliased to :func:`scalar_clamp_min_ste_impl(*args)\n",
    "    <brevitas.ops.autograd_ste_ops.scalar_clamp_min_ste_impl>` and then wrapped by\n",
    "    :func:`~brevitas.function.ops_ste.scalar_clamp_min_ste` and invoked when env ``BREVITAS_JIT=0``.\n",
    "    See :func:`~brevitas.function.ops_ste.scalar_clamp_ste` for details on the interface and\n",
    "    examples.\n",
    "    \"\"\"\n",
    "\n",
    "    @staticmethod\n",
    "    def forward(ctx, x: Tensor, min_val: float) -> Tensor:\n",
    "        y = torch.clamp_min(x, min_val)\n",
    "        return y\n",
    "\n",
    "    @staticmethod\n",
    "    def backward(ctx, grad_y: Tensor) -> Tuple[Tensor, None]:\n",
    "        return grad_y, None\n",
    "\n",
    "    @staticmethod\n",
    "    def symbolic(g, x: Tensor, min_val: float):\n",
    "        y = g.op('Clip', x, torch.tensor(min_val))\n",
    "        return y"
   ]
  },
  {
   "cell_type": "code",
   "execution_count": 20,
   "metadata": {},
   "outputs": [
    {
     "name": "stdout",
     "output_type": "stream",
     "text": [
      "tensor(1.)\n",
      "tensor(2., dtype=torch.float64)\n",
      "tensor(2., dtype=torch.float64)\n",
      "tensor(2., dtype=torch.float64)\n",
      "tensor(2., dtype=torch.float64)\n",
      "tensor(2., dtype=torch.float64)\n",
      "tensor(2., dtype=torch.float64)\n",
      "tensor(2., dtype=torch.float64)\n",
      "tensor(2., dtype=torch.float64)\n",
      "tensor(2., dtype=torch.float64)\n",
      "tensor(2., dtype=torch.float64)\n",
      "tensor(2., dtype=torch.float64)\n",
      "tensor(2., dtype=torch.float64)\n",
      "tensor(2., dtype=torch.float64)\n",
      "tensor(2., dtype=torch.float64)\n",
      "tensor(2., dtype=torch.float64)\n",
      "tensor(2., dtype=torch.float64)\n",
      "tensor(2., dtype=torch.float64)\n",
      "tensor(2., dtype=torch.float64)\n",
      "tensor(2., dtype=torch.float64)\n",
      "tensor(2., dtype=torch.float64)\n"
     ]
    }
   ],
   "source": [
    "import numpy as np\n",
    "\n",
    "from brevitas.function.ops_ste import *\n",
    "\n",
    "scalar_clamp_min_ste_impl = ScalarClampMinSteFn.apply\n",
    "\n",
    "EPS = 1.\n",
    "x = torch.tensor(-2.)\n",
    "min_val = torch.tensor(EPS)\n",
    "x.requires_grad_(True)\n",
    "out = torch.copysign(scalar_clamp_min_ste(abs_binary_sign_grad(x), min_val), x)\n",
    "#out = scalar_clamp_min_ste_impl(x, min_val)*torch.tensor([1., 1., 1.])\n",
    "out.backward(torch.tensor(1.), retain_graph=True)\n",
    "print(x.grad)\n",
    "x.grad = None\n",
    "\n",
    "for x in np.linspace(-1, 1, 20):\n",
    "    x = torch.tensor(x)\n",
    "    x.requires_grad_(True)\n",
    "    out = scalar_clamp_min_ste_impl(x, min_val)\n",
    "    out = out * out\n",
    "    out.backward(torch.tensor(1.), retain_graph=True)\n",
    "    print(x.grad)\n",
    "    x.grad = None\n",
    "\n"
   ]
  },
  {
   "cell_type": "markdown",
   "metadata": {},
   "source": []
  },
  {
   "cell_type": "code",
   "execution_count": null,
   "metadata": {},
   "outputs": [],
   "source": []
  },
  {
   "cell_type": "code",
   "execution_count": 5,
   "metadata": {},
   "outputs": [
    {
     "name": "stdout",
     "output_type": "stream",
     "text": [
      "0.00, 0.00, 0.00\n",
      "-0.50, -0.50, 1.00\n",
      "-0.45, -0.45, 1.00\n",
      "-0.39, -0.39, 1.00\n",
      "-0.34, -0.34, 1.00\n",
      "-0.29, -0.29, 1.00\n",
      "-0.24, -0.24, 1.00\n",
      "-0.18, -0.18, 1.00\n",
      "-0.13, -0.13, 1.00\n",
      "-0.08, -0.08, 1.00\n",
      "-0.03, -0.03, 1.00\n",
      "0.03, 0.03, 1.00\n",
      "0.08, 0.08, 1.00\n",
      "0.13, 0.13, 1.00\n",
      "0.18, 0.18, 1.00\n",
      "0.24, 0.24, 1.00\n",
      "0.29, 0.29, 1.00\n",
      "0.34, 0.34, 1.00\n",
      "0.39, 0.39, 1.00\n",
      "0.45, 0.45, 1.00\n",
      "0.50, 0.50, 1.00\n"
     ]
    }
   ],
   "source": [
    "import numpy as np\n",
    "\n",
    "scalar_clamp_min_ste_impl = ScalarClampMinSteFn.apply\n",
    "\n",
    "import brevitas\n",
    "class BrevitasClamp(brevitas.jit.ScriptModule):\n",
    "\n",
    "    @brevitas.jit.script_method\n",
    "    def forward(self, x: Tensor, min_val: float):\n",
    "        return torch.copysign(scalar_clamp_min_ste_impl(torch.abs(x), min_val), x)\n",
    "\n",
    "\n",
    "from brevitas.core.function_wrapper.ops_ste import ScalarSignedClampMinSte\n",
    "EPS = 0.\n",
    "x = torch.tensor(0.)\n",
    "\n",
    "x.requires_grad_(True)\n",
    "out = ScalarSignedClampMinSte(min_val)(x)\n",
    "out.backward(torch.tensor(1.), retain_graph=True)\n",
    "print(f\"{x.item():.2f}, {out.item():.2f}, {x.grad.item():.2f}\")\n",
    "x.grad = None\n",
    "\n",
    "for x in np.linspace(-0.5, 0.5, 20):\n",
    "    x = torch.tensor(x)\n",
    "    x.requires_grad_(True)\n",
    "    out = ScalarSignedClampMinSte(min_val)(x)\n",
    "    out.backward(torch.tensor(1.), retain_graph=True)\n",
    "    print(f\"{x.item():.2f}, {out.item():.2f}, {x.grad.item():.2f}\")\n",
    "    x.grad = None"
   ]
  },
  {
   "cell_type": "code",
   "execution_count": null,
   "metadata": {},
   "outputs": [],
   "source": []
  }
 ],
 "metadata": {
  "kernelspec": {
   "display_name": "Python 3",
   "language": "python",
   "name": "python3"
  },
  "language_info": {
   "codemirror_mode": {
    "name": "ipython",
    "version": 3
   },
   "file_extension": ".py",
   "mimetype": "text/x-python",
   "name": "python",
   "nbconvert_exporter": "python",
   "pygments_lexer": "ipython3",
   "version": "3.12.7"
  }
 },
 "nbformat": 4,
 "nbformat_minor": 2
}
