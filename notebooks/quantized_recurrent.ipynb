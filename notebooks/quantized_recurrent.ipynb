{
 "cells": [
  {
   "attachments": {},
   "cell_type": "markdown",
   "metadata": {},
   "source": [
    "# Quantized RNNs and LSTMs\n",
    "\n",
    "With version 0.8, Brevitas introduces support for quantized recurrent layers through `QuantRNN` and `QuantLSTM`. As with other Brevitas quantized layers, `QuantRNN` and `QuantLSTM` can be used as drop-in replacement for their floating-point variants, but they also go further and support some additional structural recurrent options not found in upstream PyTorch. Similarly to other quantized layers, both `QuantRNN` and `QuantLSTM` can take in different quantizers for different tensors involved in their computation."
   ]
  },
  {
   "attachments": {},
   "cell_type": "markdown",
   "metadata": {},
   "source": [
    "## QuantRNN\n",
    "\n",
    "We start by looking at `QuantRNN`:"
   ]
  },
  {
   "cell_type": "code",
   "execution_count": 1,
   "metadata": {},
   "outputs": [
    {
     "data": {
      "text/markdown": [
       "```python\n",
       "    def __init__(\n",
       "            self,\n",
       "            input_size: int,\n",
       "            hidden_size: int,\n",
       "            num_layers: int = 1,\n",
       "            nonlinearity: str = 'tanh',\n",
       "            bias: bool = True,\n",
       "            batch_first: bool = False,\n",
       "            bidirectional: bool = False,\n",
       "            weight_quant = Int8WeightPerTensorFloat,\n",
       "            bias_quant = Int32Bias,\n",
       "            io_quant = Int8ActPerTensorFloat,\n",
       "            gate_acc_quant = Int8ActPerTensorFloat,\n",
       "            shared_input_hidden_weights = False,\n",
       "            return_quant_tensor: bool = False,\n",
       "            **kwargs):\n",
       "        super(QuantRNN, self).__init__(\n",
       "            layer_impl=_QuantRNNLayer,\n",
       "            input_size=input_size,\n",
       "            hidden_size=hidden_size,\n",
       "            num_layers=num_layers,\n",
       "            nonlinearity=nonlinearity,\n",
       "            bias=bias,\n",
       "            batch_first=batch_first,\n",
       "            bidirectional=bidirectional,\n",
       "            weight_quant=weight_quant,\n",
       "            bias_quant=bias_quant,\n",
       "            io_quant=io_quant,\n",
       "            gate_acc_quant=gate_acc_quant,\n",
       "            shared_input_hidden_weights=shared_input_hidden_weights,\n",
       "            return_quant_tensor=return_quant_tensor,\n",
       "            **kwargs)\n",
       "\n",
       "```"
      ],
      "text/plain": [
       "<IPython.core.display.Markdown object>"
      ]
     },
     "metadata": {},
     "output_type": "display_data"
    }
   ],
   "source": [
    "import inspect\n",
    "from brevitas.nn import QuantRNN\n",
    "from IPython.display import Markdown, display\n",
    "import torch\n",
    "torch.manual_seed(0)\n",
    "\n",
    "def pretty_print_source(source):\n",
    "    display(Markdown('```python\\n' + source + '\\n```'))\n",
    "    \n",
    "source = inspect.getsource(QuantRNN.__init__)  \n",
    "pretty_print_source(source)"
   ]
  },
  {
   "attachments": {},
   "cell_type": "markdown",
   "metadata": {},
   "source": [
    "`QuantRNN` supports all arguments of `torch.nn.RNN`, plus it exposes four different quantizers: `weight_quant` controls quantization of the weight tensor, `bias_quant` controls quantization of the bias, `io_quant` controls quantization of the input/output, and `gate_acc_quant` controls quantization of the output of the gate, before the nonlinearity is applied. \n",
    "\n",
    "Compared to other layers like `QuantLinear`, a couple of things can be observed. First, input and output quantization are fused together into `io_quant`. This is because of the recurrent structure of RNN layers, where the output is fed back as input. Second, all quantizers are already set by default. This is different from a layer like `QuantLinear`, where only `weight_quant` has a default quantizer.\n",
    "\n",
    "As with `torch.nn.RNN`, `QuantRNN` defines a stack of potentially multiple layers, controlled by setting `num_layers`, that can be set to bidirectional with `bidirectional=True`. Internally, `QuantRNN` is organized into a two level nesting of `ModuleList`, one for the different layer(s), and one for the direction(s):"
   ]
  },
  {
   "cell_type": "code",
   "execution_count": 2,
   "metadata": {},
   "outputs": [
    {
     "name": "stderr",
     "output_type": "stream",
     "text": [
      "c:\\users\\alessand\\documents\\brevitas\\src\\brevitas\\nn\\mixin\\base.py:112: UserWarning: Keyword arguments are being passed but they not being used.\n",
      "  warn('Keyword arguments are being passed but they not being used.')\n"
     ]
    }
   ],
   "source": [
    "def rnn_sublayer(module, sublayer_number, right_to_left_direction):\n",
    "    return module.layers[sublayer_number][1 if right_to_left_direction else 0]\n",
    "\n",
    "quant_rnn = QuantRNN(input_size=10, hidden_size=20, num_layers=2, bidirectional=True)\n",
    "quant_rnn_0_left_to_right = rnn_sublayer(quant_rnn, sublayer_number=0, right_to_left_direction=False)\n",
    "quant_rnn_0_right_to_left = rnn_sublayer(quant_rnn, sublayer_number=0, right_to_left_direction=True)\n",
    "quant_rnn_1_left_to_right = rnn_sublayer(quant_rnn, sublayer_number=1, right_to_left_direction=False)\n",
    "quant_rnn_1_right_to_left = rnn_sublayer(quant_rnn, sublayer_number=1, right_to_left_direction=True)"
   ]
  },
  {
   "attachments": {},
   "cell_type": "markdown",
   "metadata": {},
   "source": [
    "Setting `num_layers > 1` and/or `bidirectional=True` has different implications on different quantizers. For `weight_quant`, `gate_acc_quant` and `bias_quant`, the same quantizer *definition* is shared among different layers/directions, but each layer/direction is allocated its own instance of the quantizer. "
   ]
  },
  {
   "cell_type": "code",
   "execution_count": 3,
   "metadata": {},
   "outputs": [
    {
     "data": {
      "text/plain": [
       "False"
      ]
     },
     "execution_count": 3,
     "metadata": {},
     "output_type": "execute_result"
    }
   ],
   "source": [
    "quant_rnn_0_left_to_right.gate_params.input_weight.weight_quant is quant_rnn_1_right_to_left.gate_params.input_weight.weight_quant"
   ]
  },
  {
   "cell_type": "code",
   "execution_count": 4,
   "metadata": {},
   "outputs": [
    {
     "data": {
      "text/plain": [
       "False"
      ]
     },
     "execution_count": 4,
     "metadata": {},
     "output_type": "execute_result"
    }
   ],
   "source": [
    "quant_rnn_0_left_to_right.cell.gate_acc_quant is quant_rnn_1_right_to_left.cell.gate_acc_quant"
   ]
  },
  {
   "cell_type": "code",
   "execution_count": 5,
   "metadata": {},
   "outputs": [
    {
     "data": {
      "text/plain": [
       "False"
      ]
     },
     "execution_count": 5,
     "metadata": {},
     "output_type": "execute_result"
    }
   ],
   "source": [
    "quant_rnn_0_left_to_right.gate_params.bias_quant is quant_rnn_1_right_to_left.gate_params.bias_quant"
   ]
  },
  {
   "attachments": {},
   "cell_type": "markdown",
   "metadata": {},
   "source": [
    "Conversely, for `io_quant` the same *instance* is gonna be shared among all layers and directions. This is to make sure that input/output tensors that are internally concatenated together share the same quantization scale/zero-point/bitwidth. "
   ]
  },
  {
   "cell_type": "code",
   "execution_count": 6,
   "metadata": {},
   "outputs": [
    {
     "data": {
      "text/plain": [
       "True"
      ]
     },
     "execution_count": 6,
     "metadata": {},
     "output_type": "execute_result"
    }
   ],
   "source": [
    "quant_rnn_0_left_to_right.io_quant is quant_rnn_1_right_to_left.io_quant"
   ]
  },
  {
   "attachments": {},
   "cell_type": "markdown",
   "metadata": {},
   "source": [
    "Finally, `QuantRNN` supports an additional flag, `shared_input_hidden_weights`. This allows, whenever `bidirectional=True`, to share the input-to-hidden weights among the two directions, an optimization introduced first by DeepSpeech back in the day to save on the number of parameters, with minimal impact on the quality of results."
   ]
  },
  {
   "cell_type": "code",
   "execution_count": 7,
   "metadata": {},
   "outputs": [
    {
     "name": "stdout",
     "output_type": "stream",
     "text": [
      "Number of weights for single direction QuantRNN: 600\n",
      "Number of weights for bidirectional QuantRNN: 1200\n",
      "Number of weights for bidirectional QuantRNN with shared input-hidden weights: 1000\n"
     ]
    }
   ],
   "source": [
    "from brevitas.nn import QuantRNN\n",
    "\n",
    "def count_weights(model):\n",
    "    return sum(p.numel() for n, p in model.named_parameters() if 'weight' in n)\n",
    "\n",
    "quant_rnn_single_direction = QuantRNN(input_size=10, hidden_size=20, bidirectional=False, shared_input_hidden_weights=False)\n",
    "quant_rnn_bidirectional = QuantRNN(input_size=10, hidden_size=20, bidirectional=True, shared_input_hidden_weights=False)\n",
    "quant_rnn_bidirectional_shared_input_hidden = QuantRNN(input_size=10, hidden_size=20, bidirectional=True, shared_input_hidden_weights=True)\n",
    "\n",
    "print(f\"Number of weights for single direction QuantRNN: {count_weights(quant_rnn_single_direction)}\")\n",
    "print(f\"Number of weights for bidirectional QuantRNN: {count_weights(quant_rnn_bidirectional)}\")\n",
    "print(f\"Number of weights for bidirectional QuantRNN with shared input-hidden weights: {count_weights(quant_rnn_bidirectional_shared_input_hidden)}\")\n",
    "\n"
   ]
  },
  {
   "attachments": {},
   "cell_type": "markdown",
   "metadata": {},
   "source": [
    "As with other Brevitas layers, it's possible to directly modify a quantizer by passing keyword arguments with a matching prefix. For example, to set 4b per-channel weights and 6b io quantization:"
   ]
  },
  {
   "cell_type": "code",
   "execution_count": 8,
   "metadata": {},
   "outputs": [
    {
     "name": "stdout",
     "output_type": "stream",
     "text": [
      "Input-hidden weight bit-width: 4.0\n",
      "Hidden-hidden weight bit-width: 4.0\n",
      "I/O quant bit-width: 6.0\n",
      "Input-hidden weight scale: tensor([[0.0316],\n",
      "        [0.0317],\n",
      "        [0.0319],\n",
      "        [0.0318],\n",
      "        [0.0314],\n",
      "        [0.0298],\n",
      "        [0.0317],\n",
      "        [0.0285],\n",
      "        [0.0306],\n",
      "        [0.0312],\n",
      "        [0.0318],\n",
      "        [0.0315],\n",
      "        [0.0298],\n",
      "        [0.0314],\n",
      "        [0.0293],\n",
      "        [0.0310],\n",
      "        [0.0306],\n",
      "        [0.0310],\n",
      "        [0.0309],\n",
      "        [0.0317]], grad_fn=<DivBackward0>)\n",
      "Hidden-hidden weight scale: tensor([[0.0316],\n",
      "        [0.0317],\n",
      "        [0.0319],\n",
      "        [0.0318],\n",
      "        [0.0314],\n",
      "        [0.0298],\n",
      "        [0.0317],\n",
      "        [0.0285],\n",
      "        [0.0306],\n",
      "        [0.0312],\n",
      "        [0.0318],\n",
      "        [0.0315],\n",
      "        [0.0298],\n",
      "        [0.0314],\n",
      "        [0.0293],\n",
      "        [0.0310],\n",
      "        [0.0306],\n",
      "        [0.0310],\n",
      "        [0.0309],\n",
      "        [0.0317]], grad_fn=<DivBackward0>)\n"
     ]
    }
   ],
   "source": [
    "quant_rnn_4b = QuantRNN(input_size=10, hidden_size=20, weight_bit_width=4, weight_scaling_per_output_channel=True, io_bit_width=6)\n",
    "quant_rnn_4b_0_left_to_right = rnn_sublayer(quant_rnn_4b, sublayer_number=0, right_to_left_direction=False)\n",
    "\n",
    "input_hidden_weight = quant_rnn_4b_0_left_to_right.gate_params.input_weight.quant_weight()\n",
    "hidden_hidden_weight = quant_rnn_4b_0_left_to_right.gate_params.hidden_weight.quant_weight()\n",
    "\n",
    "print(f\"Input-hidden weight bit-width: {input_hidden_weight.bit_width}\")\n",
    "print(f\"Hidden-hidden weight bit-width: {hidden_hidden_weight.bit_width}\")\n",
    "print(f\"I/O quant bit-width: {quant_rnn_4b_0_left_to_right.io_quant.bit_width()}\")\n",
    "print(f\"Input-hidden weight scale: {input_hidden_weight.scale}\")\n",
    "print(f\"Hidden-hidden weight scale: {hidden_hidden_weight.scale}\")"
   ]
  },
  {
   "attachments": {},
   "cell_type": "markdown",
   "metadata": {},
   "source": [
    "`QuantRNN` follows the same `forward` interface of `torch.nn.RNN`, with a couple of exceptions. Packed variable length inputs are currently not supported, and unbatched inputs are not supported. \n",
    "Other than that, everything else is the same. \n",
    "\n",
    "Inputs are expected to have shape `(batch, sequence, features)` for `batch_first=False`, or `(sequence, batch, features)` for `batch_first=True`. The layer returns a tuple with `(outputs, hidden_states)`, where `outputs` has shape `(sequence, batch, hidden_size * num_directions)` with `num_directions=2` when `bidirectional=True`, for `batch_first=False`, or `(batch, sequence, hidden_size * num_directions)` for `batch_first=True`, while `hidden_states` has shape `(num_directions * num_layers, batch, hidden_size)`."
   ]
  },
  {
   "cell_type": "code",
   "execution_count": 9,
   "metadata": {},
   "outputs": [
    {
     "name": "stdout",
     "output_type": "stream",
     "text": [
      "Output size: torch.Size([2, 5, 20])\n",
      "Hidden states size: torch.Size([1, 2, 20])\n"
     ]
    }
   ],
   "source": [
    "import torch\n",
    "from brevitas.nn import QuantRNN\n",
    "\n",
    "quant_rnn = QuantRNN(input_size=10, hidden_size=20, batch_first=True)\n",
    "outputs, hidden_states = quant_rnn(torch.randn(2, 5, 10))\n",
    "print(f\"Output size: {outputs.shape}\")\n",
    "print(f\"Hidden states size: {hidden_states.shape}\")"
   ]
  },
  {
   "attachments": {},
   "cell_type": "markdown",
   "metadata": {},
   "source": [
    "As with other quantized layers, it's possible to return a `QuantTensor` with `return_quant_tensor=True`. As a reminder, a `QuantTensor` is just a data structure that captures the quantization metadata associated with a quantized tensor:"
   ]
  },
  {
   "cell_type": "code",
   "execution_count": 10,
   "metadata": {},
   "outputs": [
    {
     "name": "stderr",
     "output_type": "stream",
     "text": [
      "c:\\users\\alessand\\documents\\brevitas\\src\\brevitas\\nn\\mixin\\base.py:343: UserWarning: Defining your `__torch_function__` as a plain method is deprecated and will be an error in future, please define it as a classmethod. (Triggered internally at C:\\cb\\pytorch_1000000000000\\work\\torch\\csrc\\utils\\python_arg_parser.cpp:354.)\n",
      "  return torch.cat(outputs, dim=seq_dim)\n"
     ]
    },
    {
     "data": {
      "text/plain": [
       "(QuantTensor(value=tensor([[[-0.4458, -0.1651, -0.7045, -0.5889, -0.2532, -0.0330, -0.1651,\n",
       "            0.1706,  0.1376,  0.4348,  0.5834, -0.3577, -0.2807,  0.1046,\n",
       "            0.2532,  0.2807,  0.2532, -0.4293,  0.1376, -0.1486],\n",
       "          [-0.1569,  0.3530, -0.6995, -0.0458, -0.5295, -0.3007, -0.7257,\n",
       "            0.2877, -0.1308,  0.6603,  0.0196, -0.8237,  0.0065, -0.4380,\n",
       "           -0.2615,  0.3138, -0.0850,  0.0065,  0.0458, -0.1961],\n",
       "          [ 0.1929, -0.5981, -0.2508, -0.2251, -0.5917,  0.2251,  0.0257,\n",
       "            0.2508, -0.3023,  0.2830,  0.3344, -0.4309, -0.0836,  0.2701,\n",
       "            0.3666, -0.1351,  0.1736, -0.0257,  0.1286, -0.6174],\n",
       "          [ 0.4682, -0.1804,  0.2780,  0.4974,  0.4389, -0.0585, -0.6242,\n",
       "           -0.0098,  0.2341,  0.3511, -0.2926, -0.4925,  0.1414, -0.4633,\n",
       "           -0.0683,  0.2633,  0.3804,  0.3024,  0.1951,  0.1707],\n",
       "          [-0.0852,  0.0965, -0.4656, -0.3180, -0.3464, -0.2782, -0.1931,\n",
       "           -0.6360, -0.3180, -0.3293,  0.7211,  0.4316,  0.4145, -0.3066,\n",
       "           -0.5224, -0.3066, -0.5849, -0.7211,  0.3293,  0.1420]],\n",
       " \n",
       "         [[ 0.5669,  0.2367, -0.3027, -0.3137, -0.3632, -0.1651, -0.5999,\n",
       "            0.2036,  0.4293,  0.2201, -0.2862, -0.3908, -0.2091, -0.2532,\n",
       "           -0.2532, -0.5834, -0.2697,  0.0055,  0.2532,  0.1761],\n",
       "          [ 0.1242,  0.4184, -0.6472, -0.0196, -0.4707, -0.5034, -0.8368,\n",
       "            0.3530,  0.1504,  0.0458, -0.0654, -0.7714, -0.1961, -0.4903,\n",
       "           -0.6015, -0.3596, -0.2484, -0.4380, -0.0458,  0.2942],\n",
       "          [ 0.3409,  0.8168, -0.7396,  0.2958,  0.2508, -0.1286, -0.1286,\n",
       "            0.7782, -0.1994,  0.7846, -0.3087, -0.3666,  0.1029,  0.1479,\n",
       "           -0.3216, -0.1479, -0.2315,  0.4566,  0.5209, -0.3344],\n",
       "          [-0.0878,  0.0390, -0.1707, -0.1365, -0.2243, -0.2390, -0.3706,\n",
       "            0.1609, -0.5511, -0.4096,  0.5121, -0.5901,  0.2633, -0.3609,\n",
       "           -0.5511,  0.3755, -0.4925, -0.0293, -0.0780, -0.2829],\n",
       "          [ 0.0965, -0.1987,  0.0057,  0.1306,  0.3861,  0.2839, -0.3861,\n",
       "            0.5962, -0.1987,  0.3180, -0.1647, -0.3066, -0.0227,  0.4372,\n",
       "            0.0852,  0.3748,  0.0852, -0.0057, -0.1703, -0.0738]]],\n",
       "        grad_fn=<CatBackward0>), scale=tensor(0.0058, grad_fn=<DivBackward0>), zero_point=tensor(0.), bit_width=tensor(8.), signed_t=tensor(True), training_t=tensor(True)),\n",
       " QuantTensor(value=tensor([[[-0.0852,  0.0965, -0.4656, -0.3180, -0.3464, -0.2782, -0.1931,\n",
       "           -0.6360, -0.3180, -0.3293,  0.7211,  0.4316,  0.4145, -0.3066,\n",
       "           -0.5224, -0.3066, -0.5849, -0.7211,  0.3293,  0.1420],\n",
       "          [ 0.0965, -0.1987,  0.0057,  0.1306,  0.3861,  0.2839, -0.3861,\n",
       "            0.5962, -0.1987,  0.3180, -0.1647, -0.3066, -0.0227,  0.4372,\n",
       "            0.0852,  0.3748,  0.0852, -0.0057, -0.1703, -0.0738]]],\n",
       "        grad_fn=<UnsqueezeBackward0>), scale=tensor(0.0057, grad_fn=<DivBackward0>), zero_point=tensor(0.), bit_width=tensor(8.), signed_t=tensor(True), training_t=tensor(True)))"
      ]
     },
     "execution_count": 10,
     "metadata": {},
     "output_type": "execute_result"
    }
   ],
   "source": [
    "import torch\n",
    "from brevitas.nn import QuantRNN\n",
    "\n",
    "quant_rnn = QuantRNN(input_size=10, hidden_size=20, batch_first=True, return_quant_tensor=True)\n",
    "quant_rnn(torch.randn(2, 5, 10))"
   ]
  },
  {
   "attachments": {},
   "cell_type": "markdown",
   "metadata": {},
   "source": [
    "Similarly, a `QuantTensor` can be passed in as input. However, whenever `io_quant` is set (which it is by default), the input is gonna be re-quantized:"
   ]
  },
  {
   "cell_type": "code",
   "execution_count": 11,
   "metadata": {},
   "outputs": [
    {
     "data": {
      "text/plain": [
       "(QuantTensor(value=tensor([[[ 0.1760,  0.2670, -0.1214, -0.3702,  0.3884,  0.4127,  0.0243,\n",
       "            0.0425, -0.2246, -0.0910, -0.2670,  0.4734,  0.0971, -0.3824,\n",
       "            0.1396,  0.6858,  0.0061,  0.3702,  0.1275,  0.5037],\n",
       "          [ 0.2831,  0.0566, -0.2831, -0.2661, -0.0793,  0.3511, -0.4926,\n",
       "            0.0510, -0.6455,  0.7191, -0.1812, -0.6172,  0.1529,  0.4077,\n",
       "           -0.7078, -0.0453, -0.0963,  0.4926, -0.4983, -0.4077],\n",
       "          [ 0.0000, -0.3977,  0.0947,  0.1894, -0.3725, -0.2589, -0.3914,\n",
       "            0.3409, -0.0063,  0.2652, -0.5177, -0.4230, -0.0821, -0.0631,\n",
       "            0.0505, -0.0189,  0.0253, -0.1578, -0.4988,  0.5556],\n",
       "          [ 0.4809,  0.8144, -0.6925,  0.4360,  0.0256, -0.4360, -0.5130,\n",
       "            0.2501, -0.1347,  0.7631, -0.5386, -0.2437,  0.4296, -0.1988,\n",
       "           -0.7246, -0.1154, -0.2437,  0.3655,  0.0641,  0.3142],\n",
       "          [ 0.0706, -0.0192, -0.7185, -0.8211, -0.5709,  0.1155,  0.4683,\n",
       "            0.3400, -0.3015,  0.3528,  0.3143, -0.1155, -0.3143, -0.0257,\n",
       "            0.1411, -0.2309,  0.5132,  0.3721,  0.5196, -0.5453]],\n",
       " \n",
       "         [[ 0.4066, -0.7768,  0.6008,  0.0546,  0.0182,  0.1821,  0.0971,\n",
       "           -0.3763,  0.3520, -0.5037, -0.0061,  0.2246, -0.0486,  0.2124,\n",
       "            0.3641, -0.6433,  0.4248,  0.0789,  0.1275, -0.1214],\n",
       "          [ 0.2321,  0.1982, -0.1302,  0.1529, -0.0736, -0.3567, -0.4360,\n",
       "           -0.0283,  0.4869,  0.5379, -0.6964, -0.0340, -0.2944, -0.1529,\n",
       "           -0.2152, -0.4643,  0.3454,  0.3284, -0.3341,  0.5945],\n",
       "          [-0.2020,  0.0379, -0.8081, -0.7260, -0.0821,  0.0631,  0.4988,\n",
       "            0.0694,  0.0253,  0.5430,  0.8018,  0.2273, -0.3472, -0.0505,\n",
       "            0.4924, -0.4735,  0.5745, -0.5619,  0.6313, -0.1768],\n",
       "          [ 0.2501, -0.4360,  0.6541,  0.0385,  0.5835, -0.3078, -0.0449,\n",
       "            0.3270,  0.7951, -0.3591, -0.4809, -0.2757, -0.3591, -0.7567,\n",
       "            0.5194,  0.2757,  0.7438,  0.7695,  0.5451,  0.4296],\n",
       "          [ 0.2630, -0.4747,  0.1347, -0.0641, -0.2245, -0.3336, -0.4490,\n",
       "           -0.4619, -0.1796, -0.5517,  0.3913,  0.0257, -0.2053, -0.2823,\n",
       "           -0.6992, -0.6607,  0.1989, -0.6928, -0.5581,  0.5966]]],\n",
       "        grad_fn=<CatBackward0>), scale=tensor(0.0062, grad_fn=<DivBackward0>), zero_point=tensor(0.), bit_width=tensor(8.), signed_t=tensor(True), training_t=tensor(True)),\n",
       " QuantTensor(value=tensor([[[ 0.0706, -0.0192, -0.7185, -0.8211, -0.5709,  0.1155,  0.4683,\n",
       "            0.3400, -0.3015,  0.3528,  0.3143, -0.1155, -0.3143, -0.0257,\n",
       "            0.1411, -0.2309,  0.5132,  0.3721,  0.5196, -0.5453],\n",
       "          [ 0.2630, -0.4747,  0.1347, -0.0641, -0.2245, -0.3336, -0.4490,\n",
       "           -0.4619, -0.1796, -0.5517,  0.3913,  0.0257, -0.2053, -0.2823,\n",
       "           -0.6992, -0.6607,  0.1989, -0.6928, -0.5581,  0.5966]]],\n",
       "        grad_fn=<UnsqueezeBackward0>), scale=tensor(0.0064, grad_fn=<DivBackward0>), zero_point=tensor(0.), bit_width=tensor(8.), signed_t=tensor(True), training_t=tensor(True)))"
      ]
     },
     "execution_count": 11,
     "metadata": {},
     "output_type": "execute_result"
    }
   ],
   "source": [
    "from brevitas.nn import QuantIdentity\n",
    "\n",
    "quant_identity = QuantIdentity(return_quant_tensor=True)\n",
    "quant_rnn(quant_identity(torch.randn(2, 5, 10)))"
   ]
  },
  {
   "attachments": {},
   "cell_type": "markdown",
   "metadata": {},
   "source": [
    "As with `torch.nn.RNN`, by default the initial hidden state is initialized to 0, but a custom hidden state of shape `(num_directions * num_layers, batch, hidden_size)` can be passed in:"
   ]
  },
  {
   "cell_type": "code",
   "execution_count": 12,
   "metadata": {},
   "outputs": [
    {
     "data": {
      "text/plain": [
       "(QuantTensor(value=tensor([[[-0.1984,  0.2499, -0.1102,  0.2499, -0.0955, -0.4630, -0.8672,\n",
       "            0.1911, -0.4851,  0.8085,  0.6982, -0.5806,  0.0000, -0.4189,\n",
       "           -0.7423, -0.4851, -0.9260, -0.0147,  0.0514, -0.1984],\n",
       "          [-0.2167,  0.5092, -0.3846,  0.0650,  0.6717, -0.2492, -0.0867,\n",
       "            0.3142, -0.3900,  0.3521,  0.4767, -0.1137,  0.6879,  0.1733,\n",
       "           -0.0596,  0.4279, -0.5471, -0.2762,  0.5904, -0.3737],\n",
       "          [-0.1335, -0.0140, -0.2810, -0.5339, -0.5339,  0.0562,  0.7236,\n",
       "           -0.1264, -0.0211, -0.3021, -0.1124,  0.4777,  0.3793,  0.2388,\n",
       "           -0.0702,  0.4847, -0.4988,  0.7236,  0.5901, -0.4847],\n",
       "          [ 0.3340, -0.5225, -0.1242,  0.1499,  0.3083, -0.1756, -0.1713,\n",
       "            0.0000,  0.3512, -0.3041,  0.3126, -0.5482,  0.4882,  0.1028,\n",
       "           -0.4796,  0.1028, -0.2527, -0.3640,  0.1713,  0.0471],\n",
       "          [-0.4438, -0.2686, -0.3095, -0.2978, -0.0993,  0.0584,  0.4846,\n",
       "           -0.0526,  0.3737, -0.4496,  0.1109,  0.7416, -0.0526,  0.3445,\n",
       "            0.4963,  0.2803,  0.1927,  0.0000,  0.6131,  0.1109]],\n",
       " \n",
       "         [[ 0.1102, -0.8085,  0.5806, -0.0661,  0.3013,  0.2646,  0.2499,\n",
       "           -0.6321,  0.4557,  0.4777,  0.6321,  0.0294, -0.2646, -0.9407,\n",
       "            0.7350, -0.6027,  0.6174, -0.4116,  0.6835,  0.0514],\n",
       "          [ 0.1787,  0.0271,  0.1354, -0.3033,  0.6229, -0.3250, -0.3846,\n",
       "            0.0812,  0.5633,  0.6879, -0.0325, -0.2383, -0.3521, -0.5850,\n",
       "            0.3033, -0.3900,  0.6771,  0.3196,  0.5633,  0.2383],\n",
       "          [-0.1264,  0.5901, -0.3934,  0.3231,  0.0492, -0.5128, -0.8149,\n",
       "            0.1124, -0.7517,  0.8711,  0.4004, -0.8992,  0.0702, -0.2178,\n",
       "           -0.8851, -0.5760, -0.1054, -0.0702, -0.3512, -0.5198],\n",
       "          [ 0.2612,  0.2570,  0.1542, -0.1071, -0.0300,  0.0257, -0.3854,\n",
       "           -0.0685, -0.2570,  0.0728, -0.4240, -0.3083,  0.1627, -0.3383,\n",
       "           -0.0428,  0.0300, -0.1199,  0.3683,  0.3298, -0.3340],\n",
       "          [ 0.4204, -0.2452, -0.0934,  0.2336,  0.1285, -0.1285,  0.2044,\n",
       "           -0.0701,  0.0058,  0.3971,  0.0175, -0.3270,  0.2803,  0.1810,\n",
       "           -0.4963, -0.5547,  0.0467,  0.0175,  0.1927, -0.2452]]],\n",
       "        grad_fn=<CatBackward0>), scale=tensor(0.0060, grad_fn=<DivBackward0>), zero_point=tensor(0.), bit_width=tensor(8.), signed_t=tensor(True), training_t=tensor(True)),\n",
       " QuantTensor(value=tensor([[[-0.4438, -0.2686, -0.3095, -0.2978, -0.0993,  0.0584,  0.4846,\n",
       "           -0.0526,  0.3737, -0.4496,  0.1109,  0.7416, -0.0526,  0.3445,\n",
       "            0.4963,  0.2803,  0.1927,  0.0000,  0.6131,  0.1109],\n",
       "          [ 0.4204, -0.2452, -0.0934,  0.2336,  0.1285, -0.1285,  0.2044,\n",
       "           -0.0701,  0.0058,  0.3971,  0.0175, -0.3270,  0.2803,  0.1810,\n",
       "           -0.4963, -0.5547,  0.0467,  0.0175,  0.1927, -0.2452]]],\n",
       "        grad_fn=<UnsqueezeBackward0>), scale=tensor(0.0058, grad_fn=<DivBackward0>), zero_point=tensor(0.), bit_width=tensor(8.), signed_t=tensor(True), training_t=tensor(True)))"
      ]
     },
     "execution_count": 12,
     "metadata": {},
     "output_type": "execute_result"
    }
   ],
   "source": [
    "quant_rnn(torch.randn(2, 5, 10), torch.randn(1, 2, 20))"
   ]
  },
  {
   "attachments": {},
   "cell_type": "markdown",
   "metadata": {},
   "source": [
    "As with other Brevitas layers, `QuantRNN` can be initialized from a pretrained floating-point `torch.nn.RNN`. For the purpose of this tutorial, can simulate it from an untrained `torch.nn.RNN`. As for other quantized layers, setting `brevitas.config.IGNORE_MISSING_KEYS` might be necessary (depending on which quantizers are set). With the default quantizers, an error on activation scale keys would be triggered, so we set it to true:"
   ]
  },
  {
   "cell_type": "code",
   "execution_count": 13,
   "metadata": {},
   "outputs": [
    {
     "data": {
      "text/plain": [
       "<All keys matched successfully>"
      ]
     },
     "execution_count": 13,
     "metadata": {},
     "output_type": "execute_result"
    }
   ],
   "source": [
    "from torch.nn import RNN\n",
    "from brevitas.nn import QuantRNN\n",
    "from brevitas import config\n",
    "\n",
    "config.IGNORE_MISSING_KEYS = True\n",
    "\n",
    "float_rnn = RNN(input_size=10, hidden_size=20)\n",
    "quant_rnn = QuantRNN(input_size=10, hidden_size=20)\n",
    "quant_rnn.load_state_dict(float_rnn.state_dict())"
   ]
  },
  {
   "attachments": {},
   "cell_type": "markdown",
   "metadata": {},
   "source": [
    "Similar to other quantized layers, quantization on a certain tensor can be disabled by setting a quantizer to `None`. Setting all quantizers to `None` recovers the same behaviour as the floating-point variant:"
   ]
  },
  {
   "cell_type": "code",
   "execution_count": 14,
   "metadata": {},
   "outputs": [],
   "source": [
    "from torch.nn import RNN\n",
    "from brevitas.nn import QuantRNN\n",
    "from brevitas import config\n",
    "ATOL = 1e-6\n",
    "\n",
    "config.IGNORE_MISSING_KEYS = True\n",
    "torch.manual_seed(123456)\n",
    "\n",
    "float_rnn = RNN(input_size=10, hidden_size=20)\n",
    "quant_rnn = QuantRNN(input_size=10, hidden_size=20, weight_quant=None, io_quant=None, gate_acc_quant=None, bias_quant=None)\n",
    "\n",
    "# Set both layers to the same state_dict\n",
    "quant_rnn.load_state_dict(float_rnn.state_dict())\n",
    "\n",
    "# Generate random input\n",
    "inp = torch.randn(5, 2, 10)\n",
    "# Check outputs are the same\n",
    "assert torch.allclose(quant_rnn(inp)[0], float_rnn(inp)[0], atol=ATOL)\n",
    "# Check hidden states are the same\n",
    "assert torch.allclose(quant_rnn(inp)[1], float_rnn(inp)[1], atol=ATOL)"
   ]
  },
  {
   "attachments": {},
   "cell_type": "markdown",
   "metadata": {},
   "source": [
    "As with other quantized layers, we can leverage other prebuilt quantizers too. For example, to perform binary weight quantization:"
   ]
  },
  {
   "cell_type": "code",
   "execution_count": 15,
   "metadata": {},
   "outputs": [
    {
     "data": {
      "text/plain": [
       "(tensor([[[-0.3684, -0.0946, -0.4480,  0.0050,  0.1543,  0.6322,  0.1643,\n",
       "            0.1693,  0.2937,  0.5227,  0.2290, -0.3534, -0.3883,  0.4331,\n",
       "            0.0000,  0.1693, -0.4331,  0.3634, -0.0050,  0.1941],\n",
       "          [-0.2240, -0.0199, -0.3534,  0.0946,  0.3485,  0.3534,  0.1941,\n",
       "            0.1643,  0.1145,  0.4082,  0.2987, -0.0647, -0.0946,  0.1543,\n",
       "            0.1145, -0.0498,  0.0647,  0.1493,  0.0299, -0.1195]],\n",
       " \n",
       "         [[ 0.0776, -0.0776, -0.5670,  0.4178, -0.0239,  0.4476,  0.2029,\n",
       "           -0.0836,  0.3521,  0.7042,  0.6326,  0.4058, -0.4118, -0.0477,\n",
       "           -0.2387, -0.0179, -0.4416, -0.4237, -0.3282, -0.1074],\n",
       "          [-0.2626,  0.3581,  0.2328, -0.2268, -0.2686, -0.3103,  0.4536,\n",
       "            0.3461,  0.3103,  0.3163,  0.3282, -0.3163, -0.7639,  0.0179,\n",
       "            0.0060,  0.0776, -0.5849, -0.5252,  0.1790,  0.2984]],\n",
       " \n",
       "         [[-0.5411,  0.3147,  0.6184, -0.3037, -0.1877, -0.3755,  0.1767,\n",
       "           -0.1767, -0.1491, -0.1049,  0.2871, -0.0552, -0.0883,  0.0331,\n",
       "            0.4749, -0.3147,  0.0331,  0.1767,  0.7013, -0.2264],\n",
       "          [-0.0773, -0.1877,  0.4749, -0.2264, -0.4583,  0.0166, -0.3534,\n",
       "           -0.5743,  0.5411,  0.1160, -0.0442, -0.0442,  0.3037,  0.0166,\n",
       "           -0.1325, -0.1657, -0.0718,  0.1215,  0.6240,  0.3092]],\n",
       " \n",
       "         [[-0.0627, -0.1882, -0.4642, -0.1443,  0.4705,  0.3137, -0.2447,\n",
       "            0.0063, -0.1129,  0.3011,  0.1882,  0.2572,  0.2384, -0.0376,\n",
       "            0.1129, -0.1380,  0.1380,  0.3011, -0.0251, -0.0063],\n",
       "          [-0.6399,  0.5771,  0.2133,  0.2572,  0.7967,  0.1631, -0.2384,\n",
       "           -0.4078, -0.3199,  0.0753,  0.6524,  0.0690, -0.1819, -0.2258,\n",
       "            0.3889, -0.4078, -0.3764,  0.2258,  0.5458, -0.1756]],\n",
       " \n",
       "         [[-0.5704,  0.6139, -0.1209, -0.5173,  0.4447,  0.0048,  0.3481,\n",
       "           -0.5946, -0.5221,  0.1644, -0.2949, -0.1789, -0.1982,  0.2707,\n",
       "            0.2900, -0.5124, -0.4399, -0.0725,  0.4351,  0.6091],\n",
       "          [ 0.0435,  0.2030, -0.4447, -0.2659,  0.1547,  0.0580,  0.4254,\n",
       "            0.5559,  0.1740,  0.4254,  0.4592,  0.2369, -0.4496, -0.3336,\n",
       "            0.3046,  0.1354, -0.3626, -0.2659, -0.2079, -0.4641]]],\n",
       "        grad_fn=<CatBackward0>),\n",
       " tensor([[[-0.5704,  0.6139, -0.1209, -0.5173,  0.4447,  0.0048,  0.3481,\n",
       "           -0.5946, -0.5221,  0.1644, -0.2949, -0.1789, -0.1982,  0.2707,\n",
       "            0.2900, -0.5124, -0.4399, -0.0725,  0.4351,  0.6091],\n",
       "          [ 0.0435,  0.2030, -0.4447, -0.2659,  0.1547,  0.0580,  0.4254,\n",
       "            0.5559,  0.1740,  0.4254,  0.4592,  0.2369, -0.4496, -0.3336,\n",
       "            0.3046,  0.1354, -0.3626, -0.2659, -0.2079, -0.4641]]],\n",
       "        grad_fn=<UnsqueezeBackward0>))"
      ]
     },
     "execution_count": 15,
     "metadata": {},
     "output_type": "execute_result"
    }
   ],
   "source": [
    "from brevitas.quant.binary import SignedBinaryWeightPerTensorConst\n",
    "\n",
    "binary_rnn = QuantRNN(input_size=10, hidden_size=20, weight_quant=SignedBinaryWeightPerTensorConst)\n",
    "binary_rnn(torch.randn(5, 2, 10))"
   ]
  },
  {
   "attachments": {},
   "cell_type": "markdown",
   "metadata": {},
   "source": [
    "## QuantLSTM\n",
    "\n",
    "We now look at `QuantLSTM`:"
   ]
  },
  {
   "cell_type": "code",
   "execution_count": 16,
   "metadata": {},
   "outputs": [
    {
     "data": {
      "text/markdown": [
       "```python\n",
       "    def __init__(\n",
       "            self,\n",
       "            input_size: int,\n",
       "            hidden_size: int,\n",
       "            num_layers: int = 1,\n",
       "            bias: bool = True,\n",
       "            batch_first: bool = False,\n",
       "            bidirectional: bool = False,\n",
       "            weight_quant = Int8WeightPerTensorFloat,\n",
       "            bias_quant = Int32Bias,\n",
       "            io_quant = Int8ActPerTensorFloat,\n",
       "            gate_acc_quant = Int8ActPerTensorFloat,\n",
       "            sigmoid_quant = Uint8ActPerTensorFloat,\n",
       "            tanh_quant = Int8ActPerTensorFloat,\n",
       "            cell_state_quant = Int8ActPerTensorFloat,\n",
       "            coupled_input_forget_gates: bool = False,\n",
       "            cat_output_cell_states = True,\n",
       "            shared_input_hidden_weights = False,\n",
       "            shared_intra_layer_weight_quant = False,\n",
       "            shared_intra_layer_gate_acc_quant = False,\n",
       "            shared_cell_state_quant = True,\n",
       "            return_quant_tensor: bool = False,\n",
       "            **kwargs):\n",
       "        super(QuantLSTM, self).__init__(\n",
       "            layer_impl=_QuantLSTMLayer,\n",
       "            input_size=input_size,\n",
       "            hidden_size=hidden_size,\n",
       "            num_layers=num_layers,\n",
       "            bias=bias,\n",
       "            batch_first=batch_first,\n",
       "            bidirectional=bidirectional,\n",
       "            weight_quant=weight_quant,\n",
       "            bias_quant=bias_quant,\n",
       "            io_quant=io_quant,\n",
       "            gate_acc_quant=gate_acc_quant,\n",
       "            sigmoid_quant=sigmoid_quant,\n",
       "            tanh_quant=tanh_quant,\n",
       "            cell_state_quant=cell_state_quant,\n",
       "            cifg=coupled_input_forget_gates,\n",
       "            shared_input_hidden_weights=shared_input_hidden_weights,\n",
       "            shared_intra_layer_weight_quant=shared_intra_layer_weight_quant,\n",
       "            shared_intra_layer_gate_acc_quant=shared_intra_layer_gate_acc_quant,\n",
       "            shared_cell_state_quant=shared_cell_state_quant,\n",
       "            return_quant_tensor=return_quant_tensor,\n",
       "            **kwargs)\n",
       "        if cat_output_cell_states and cell_state_quant is not None and not shared_cell_state_quant:\n",
       "            raise RuntimeError(\"Concatenating cell states requires shared cell quantizers.\")\n",
       "        self.cat_output_cell_states = cat_output_cell_states\n",
       "\n",
       "```"
      ],
      "text/plain": [
       "<IPython.core.display.Markdown object>"
      ]
     },
     "metadata": {},
     "output_type": "display_data"
    }
   ],
   "source": [
    "import inspect\n",
    "from brevitas.nn import QuantLSTM\n",
    "from IPython.display import Markdown, display\n",
    "\n",
    "def pretty_print_source(source):\n",
    "    display(Markdown('```python\\n' + source + '\\n```'))\n",
    "    \n",
    "source = inspect.getsource(QuantLSTM.__init__)  \n",
    "pretty_print_source(source)"
   ]
  },
  {
   "attachments": {},
   "cell_type": "markdown",
   "metadata": {},
   "source": [
    "As with `QuantRNN`, `QuantLSTM` supports all options of `torch.nn.LSTM`. Everything said so far on `QuantRNN` applies to `QuantLSTM` too, but there a bunch of things more to be aware of.\n",
    "\n",
    "`QuantLSTM` accepts a few more quantizers: `sigmoid_quant`, `tanh_quant` and `cell_state_quant`. As with `QuantRNN`, setting `bidirectional=True` and/or `num_layers > 1` triggers sharing the instance of certain quantizers, but not others. In particular `io_quant` is shared among all layers and directions, as it was the case for `QuantRNN`. `cell_state_quant` is shared by default, but setting `shared_cell_state_quant=False` can disable that. However, that requires setting `cat_output_cell_states=False`, as otherwise we would find ourselves with a concenation of cell states that have been quantized with different quantizers, which is considered illegal in Brevitas.\n",
    "\n",
    "LSTMs have four gates, each with its input-hidden and hidden-hidden weights. Brevitas takes in one `weight_quant` definition, but then four different instances of the weight quantizer are instantiated, and each gate is quantized differently, meaning it can have its own scale and zero-point. To force sharing the same weight quantizer across all gates, `QuantLSTM` supports setting `shared_intra_layer_weight_quant=True`. The same reasoning applies to the quantization of the output of each gate, before the activation functions, which is controlled by the `gate_acc_quant` quantizer. To force the same quantizer instance to be shared, `shared_intra_layer_gate_acc_quant=True` can be set. Different sigmoid and tanh functions instead are always allocated different quantizer instances.\n",
    "\n",
    "Finally, `QuantLSTM` also supports the coupled input-forget gates (CIFG), where the forget gate is defined as `forget_gate = 1 - input_gate`, by setting `coupled_input_forget_gates=True`. This is an optimization to save on some compute and number of parameters, and is orthogonal to all other settings, such as `shared_input_hidden_weights`."
   ]
  },
  {
   "attachments": {},
   "cell_type": "markdown",
   "metadata": {},
   "source": [
    "## Just-in-time compilation\n",
    "\n",
    "Custom recurrent layer can be quite slow at training time. With quantization added in, it only gets worse. To mitigate the issue, both `QuantRNN` and `QuantLSTM` support jit compilation. Setting the env variable `BREVITAS_JIT=1` triggers end-to-end compilation of the quantized recurrent cell through PyTorch TorchScript compiler."
   ]
  },
  {
   "attachments": {},
   "cell_type": "markdown",
   "metadata": {},
   "source": [
    "## Calibration\n",
    "\n",
    "As of version 0.8 of Brevitas, `QuantRNN` and `QuantLSTM` don't support quantized activations calibration through `calibration_mode `nor bias correction through `bias_correction_mode`. This will be added in a future version."
   ]
  },
  {
   "attachments": {},
   "cell_type": "markdown",
   "metadata": {},
   "source": [
    "## Export\n",
    "\n",
    "As of Brevitas 0.8, export of quantized recurrent layers is still a work in progress. As a proof of concept, there is partial support only for export of `QuantLSTM` to ONNX QCDQ, a way to represented quantization in ONNX only with standard ops (QuantizeLinear->Clip->DequantizeLinear), and to QONNX, a custom set of quantized operators introduced by Brevitas on top of ONNX. Two use cases are supported: (1) only `weight_quant` is set, supported by both QCDQ and QONNX, and (2) all quantizers are set, supported only by QONNX. In both cases, `bidirectional=True` and `num_layers > 1` are supported. We first define an utility function to visualize the network through netron, which requires `pip install netron`."
   ]
  },
  {
   "cell_type": "code",
   "execution_count": 17,
   "metadata": {},
   "outputs": [],
   "source": [
    "import time\n",
    "from IPython.display import IFrame\n",
    "\n",
    "def show_netron(model_path, port):\n",
    "    try:\n",
    "        import netron\n",
    "        time.sleep(3.)\n",
    "        netron.start(model_path, address=(\"localhost\", port), browse=False)\n",
    "        return IFrame(src=f\"http://localhost:{port}/\", width=\"100%\", height=400)\n",
    "    except:\n",
    "        pass"
   ]
  },
  {
   "attachments": {},
   "cell_type": "markdown",
   "metadata": {},
   "source": [
    "### QuantLSTM weight-only quantization export\n",
    "\n",
    "For use case (1), we leverage export to ONNX QCDQ. Qeight quantization is represented with QCDQ nodes, while the standard ONNX `LSTM` operator is adopted for the recurrent cell. With this approach, we can represent any weight bit width >= 2. Opset 14 is required. For the purpose of this 1 layer, 1 direction example we keep the default `weight_quant` set, we add `weight_bit_width=4`, while we disable the other quantizers:"
   ]
  },
  {
   "cell_type": "code",
   "execution_count": 18,
   "metadata": {},
   "outputs": [],
   "source": [
    "import torch\n",
    "from brevitas.nn import QuantLSTM\n",
    "from brevitas.export import export_onnx_qcdq\n",
    "\n",
    "quant_lstm_weight_only = QuantLSTM(input_size=10, hidden_size=20, weight_bit_width=4, io_quant=None, bias_quant=None, gate_acc_quant=None, sigmoid_quant=None, tanh_quant=None, cell_state_quant=None)\n",
    "export_path = 'quant_lstm_weight_only_4b.onnx'\n",
    "exported_model = export_onnx_qcdq(quant_lstm_weight_only, (torch.randn(5, 1, 10)), opset_version=14, export_path=export_path)\n"
   ]
  },
  {
   "cell_type": "code",
   "execution_count": 19,
   "metadata": {
    "tags": [
     "skip-execution"
    ]
   },
   "outputs": [
    {
     "name": "stdout",
     "output_type": "stream",
     "text": [
      "Serving 'quant_lstm_weight_only_4b.onnx' at http://localhost:8080\n"
     ]
    },
    {
     "data": {
      "text/html": [
       "\n",
       "        <iframe\n",
       "            width=\"100%\"\n",
       "            height=\"400\"\n",
       "            src=\"http://localhost:8080/\"\n",
       "            frameborder=\"0\"\n",
       "            allowfullscreen\n",
       "            \n",
       "        ></iframe>\n",
       "        "
      ],
      "text/plain": [
       "<IPython.lib.display.IFrame at 0x7f5401082890>"
      ]
     },
     "execution_count": 19,
     "metadata": {},
     "output_type": "execute_result"
    }
   ],
   "source": [
    "show_netron(export_path, 8080)"
   ]
  },
  {
   "attachments": {},
   "cell_type": "markdown",
   "metadata": {},
   "source": [
    "Note that the model can then be accelerated in `onnxruntime`:"
   ]
  },
  {
   "cell_type": "code",
   "execution_count": 19,
   "metadata": {},
   "outputs": [],
   "source": [
    "import onnxruntime as ort\n",
    "import numpy as np\n",
    "\n",
    "sess = ort.InferenceSession(export_path)\n",
    "input_name = sess.get_inputs()[0].name\n",
    "np_input = np.random.uniform(size=(5, 1, 10)).astype(np.float32)  # (seq_len, batch_size, input_size)\n",
    "pred_onnx = sess.run(None, {input_name: np_input})"
   ]
  },
  {
   "attachments": {},
   "cell_type": "markdown",
   "metadata": {},
   "source": [
    "CIFG is also supported in a way that follows the semantics of `onnxruntime`:"
   ]
  },
  {
   "cell_type": "code",
   "execution_count": 21,
   "metadata": {},
   "outputs": [],
   "source": [
    "import torch\n",
    "from brevitas.nn import QuantLSTM\n",
    "from brevitas.export import export_onnx_qcdq\n",
    "\n",
    "quant_lstm_weight_only_cifg = QuantLSTM(\n",
    "    input_size=10, hidden_size=20, coupled_input_forget_gates=True, weight_bit_width=4,\n",
    "    io_quant=None, bias_quant=None, gate_acc_quant=None, sigmoid_quant=None, tanh_quant=None, cell_state_quant=None)\n",
    "export_path = 'quant_lstm_weight_only_cifg_4b.onnx'\n",
    "exported_model = export_onnx_qcdq(quant_lstm_weight_only_cifg, (torch.randn(5, 1, 10)), opset_version=14, export_path=export_path)"
   ]
  },
  {
   "cell_type": "code",
   "execution_count": 22,
   "metadata": {
    "tags": [
     "skip-execution"
    ]
   },
   "outputs": [
    {
     "name": "stdout",
     "output_type": "stream",
     "text": [
      "Serving 'quant_lstm_weight_only_cifg_4b.onnx' at http://localhost:8082\n"
     ]
    },
    {
     "data": {
      "text/html": [
       "\n",
       "        <iframe\n",
       "            width=\"100%\"\n",
       "            height=\"400\"\n",
       "            src=\"http://localhost:8082/\"\n",
       "            frameborder=\"0\"\n",
       "            allowfullscreen\n",
       "            \n",
       "        ></iframe>\n",
       "        "
      ],
      "text/plain": [
       "<IPython.lib.display.IFrame at 0x7f5400fef4d0>"
      ]
     },
     "execution_count": 22,
     "metadata": {},
     "output_type": "execute_result"
    }
   ],
   "source": [
    "show_netron(export_path, 8082)"
   ]
  },
  {
   "attachments": {},
   "cell_type": "markdown",
   "metadata": {},
   "source": [
    "As before we can run it with `onnxruntime`:"
   ]
  },
  {
   "cell_type": "code",
   "execution_count": 21,
   "metadata": {},
   "outputs": [],
   "source": [
    "import onnxruntime as ort\n",
    "import numpy as np\n",
    "\n",
    "sess = ort.InferenceSession(export_path)\n",
    "input_name = sess.get_inputs()[0].name\n",
    "np_input = np.random.uniform(size=(5, 1, 10)).astype(np.float32)  # (seq_len, batch_size, input_size)\n",
    "pred_onnx = sess.run(None, {input_name: np_input})"
   ]
  },
  {
   "attachments": {},
   "cell_type": "markdown",
   "metadata": {},
   "source": [
    "For the 2 layers, 2 directions use case:"
   ]
  },
  {
   "cell_type": "code",
   "execution_count": 24,
   "metadata": {},
   "outputs": [
    {
     "name": "stderr",
     "output_type": "stream",
     "text": [
      "/home/giuseppe/Documents/git/brevitas/src/brevitas/nn/mixin/base.py:77: UserWarning: Keyword arguments are being passed but they not being used.\n",
      "  warn('Keyword arguments are being passed but they not being used.')\n"
     ]
    }
   ],
   "source": [
    "import torch\n",
    "from brevitas.nn import QuantLSTM\n",
    "from brevitas.export import export_onnx_qcdq\n",
    "\n",
    "quant_lstm_weight_only_bidirectional_2_layers = QuantLSTM(\n",
    "    input_size=10, hidden_size=20, bidirectional=True, num_layers=2, weight_bit_width=4,\n",
    "    io_quant=None, bias_quant=None, gate_acc_quant=None, sigmoid_quant=None, tanh_quant=None, cell_state_quant=None)\n",
    "export_path = 'quant_lstm_weight_only_bidirectional_2_layers.onnx'\n",
    "exported_model = export_onnx_qcdq(quant_lstm_weight_only_bidirectional_2_layers, (torch.randn(5, 1, 10)), opset_version=14, export_path=export_path)"
   ]
  },
  {
   "cell_type": "code",
   "execution_count": 25,
   "metadata": {
    "tags": [
     "skip-execution"
    ]
   },
   "outputs": [
    {
     "name": "stdout",
     "output_type": "stream",
     "text": [
      "Serving 'quant_lstm_weight_only_bidirectional_2_layers.onnx' at http://localhost:8083\n"
     ]
    },
    {
     "data": {
      "text/html": [
       "\n",
       "        <iframe\n",
       "            width=\"100%\"\n",
       "            height=\"400\"\n",
       "            src=\"http://localhost:8083/\"\n",
       "            frameborder=\"0\"\n",
       "            allowfullscreen\n",
       "            \n",
       "        ></iframe>\n",
       "        "
      ],
      "text/plain": [
       "<IPython.lib.display.IFrame at 0x7f53fe880cd0>"
      ]
     },
     "execution_count": 25,
     "metadata": {},
     "output_type": "execute_result"
    }
   ],
   "source": [
    "show_netron(export_path, 8083)"
   ]
  },
  {
   "cell_type": "markdown",
   "metadata": {},
   "source": [
    "Shared input-hidden weights are also supported:"
   ]
  },
  {
   "cell_type": "code",
   "execution_count": 26,
   "metadata": {},
   "outputs": [
    {
     "name": "stderr",
     "output_type": "stream",
     "text": [
      "/home/giuseppe/Documents/git/brevitas/src/brevitas/nn/mixin/base.py:77: UserWarning: Keyword arguments are being passed but they not being used.\n",
      "  warn('Keyword arguments are being passed but they not being used.')\n"
     ]
    }
   ],
   "source": [
    "import torch\n",
    "from brevitas.nn import QuantLSTM\n",
    "from brevitas.export import export_onnx_qcdq\n",
    "\n",
    "quant_lstm_weight_only_bidirectional_2_layers_shared = QuantLSTM(\n",
    "    input_size=10, hidden_size=20, bidirectional=True, shared_input_hidden_weights=True, weight_bit_width=4,\n",
    "    io_quant=None, bias_quant=None, gate_acc_quant=None, sigmoid_quant=None, tanh_quant=None, cell_state_quant=None)\n",
    "export_path = 'quant_lstm_weight_only_bidirectional_2_layers_shared_ih.onnx'\n",
    "exported_model = export_onnx_qcdq(quant_lstm_weight_only_bidirectional_2_layers_shared, (torch.randn(5, 1, 10)), opset_version=14, export_path=export_path)"
   ]
  },
  {
   "cell_type": "code",
   "execution_count": 27,
   "metadata": {
    "tags": [
     "skip-execution"
    ]
   },
   "outputs": [
    {
     "name": "stdout",
     "output_type": "stream",
     "text": [
      "Serving 'quant_lstm_weight_only_bidirectional_2_layers_shared_ih.onnx' at http://localhost:8085\n"
     ]
    },
    {
     "data": {
      "text/html": [
       "\n",
       "        <iframe\n",
       "            width=\"100%\"\n",
       "            height=\"400\"\n",
       "            src=\"http://localhost:8085/\"\n",
       "            frameborder=\"0\"\n",
       "            allowfullscreen\n",
       "            \n",
       "        ></iframe>\n",
       "        "
      ],
      "text/plain": [
       "<IPython.lib.display.IFrame at 0x7f5430180890>"
      ]
     },
     "execution_count": 27,
     "metadata": {},
     "output_type": "execute_result"
    }
   ],
   "source": [
    "show_netron(export_path, 8085)"
   ]
  },
  {
   "attachments": {},
   "cell_type": "markdown",
   "metadata": {},
   "source": [
    "We can observe how setting `shared_intra_layer_weight_quant=True` affects the network. Now, for each layer and for each direction within a layer, all weight quantizers share the same scale/zp/bit-width:"
   ]
  },
  {
   "cell_type": "code",
   "execution_count": 24,
   "metadata": {},
   "outputs": [
    {
     "name": "stderr",
     "output_type": "stream",
     "text": [
      "c:\\users\\alessand\\documents\\brevitas\\src\\brevitas\\nn\\mixin\\base.py:112: UserWarning: Keyword arguments are being passed but they not being used.\n",
      "  warn('Keyword arguments are being passed but they not being used.')\n"
     ]
    },
    {
     "name": "stdout",
     "output_type": "stream",
     "text": [
      "Serving 'quant_lstm_weight_only_bidirectional_2_layers_shared_q.onnx' at http://localhost:8086\n"
     ]
    },
    {
     "data": {
      "text/html": [
       "\n",
       "        <iframe\n",
       "            width=\"100%\"\n",
       "            height=\"400\"\n",
       "            src=\"http://localhost:8086/\"\n",
       "            frameborder=\"0\"\n",
       "            allowfullscreen\n",
       "            \n",
       "        ></iframe>\n",
       "        "
      ],
      "text/plain": [
       "<IPython.lib.display.IFrame at 0x1f106230dc0>"
      ]
     },
     "execution_count": 24,
     "metadata": {},
     "output_type": "execute_result"
    }
   ],
   "source": [
    "import torch\n",
    "from brevitas.nn import QuantLSTM\n",
    "from brevitas.export import export_onnx_qcdq\n",
    "\n",
    "quant_lstm_weight_only_bidirectional_2_layers = QuantLSTM(\n",
    "    input_size=10, hidden_size=20, bidirectional=True, num_layers=2, weight_bit_width=4, shared_intra_layer_weight_quant=True,\n",
    "    io_quant=None, bias_quant=None, gate_acc_quant=None, sigmoid_quant=None, tanh_quant=None, cell_state_quant=None)\n",
    "export_path = 'quant_lstm_weight_only_bidirectional_2_layers_shared_q.onnx'\n",
    "exported_model = export_onnx_qcdq(quant_lstm_weight_only_bidirectional_2_layers, (torch.randn(5, 1, 10)), opset_version=14, export_path=export_path)"
   ]
  },
  {
   "cell_type": "code",
   "execution_count": null,
   "metadata": {
    "tags": [
     "skip-execution"
    ]
   },
   "outputs": [],
   "source": [
    "show_netron(export_path, 8086)"
   ]
  },
  {
   "attachments": {},
   "cell_type": "markdown",
   "metadata": {},
   "source": [
    "Alternatively, if we set both `shared_input_hidden_weights=True` and `shared_intra_layer_weight_quant=True`, the side effect is that all quantizers among both directions in a given layer are gonna have the same scale/zp/bit-width. "
   ]
  },
  {
   "cell_type": "code",
   "execution_count": 25,
   "metadata": {},
   "outputs": [
    {
     "name": "stderr",
     "output_type": "stream",
     "text": [
      "c:\\users\\alessand\\documents\\brevitas\\src\\brevitas\\nn\\mixin\\base.py:112: UserWarning: Keyword arguments are being passed but they not being used.\n",
      "  warn('Keyword arguments are being passed but they not being used.')\n"
     ]
    },
    {
     "name": "stdout",
     "output_type": "stream",
     "text": [
      "Serving 'quant_lstm_weight_only_bidirectional_2_layers_shared_q_ih.onnx' at http://localhost:8087\n"
     ]
    },
    {
     "data": {
      "text/html": [
       "\n",
       "        <iframe\n",
       "            width=\"100%\"\n",
       "            height=\"400\"\n",
       "            src=\"http://localhost:8087/\"\n",
       "            frameborder=\"0\"\n",
       "            allowfullscreen\n",
       "            \n",
       "        ></iframe>\n",
       "        "
      ],
      "text/plain": [
       "<IPython.lib.display.IFrame at 0x1f10758f610>"
      ]
     },
     "execution_count": 25,
     "metadata": {},
     "output_type": "execute_result"
    }
   ],
   "source": [
    "import torch\n",
    "from brevitas.nn import QuantLSTM\n",
    "from brevitas.export import export_onnx_qcdq\n",
    "\n",
    "quant_lstm_weight_only_bidirectional_2_layers = QuantLSTM(\n",
    "    input_size=10, hidden_size=20, bidirectional=True, num_layers=2, weight_bit_width=4, \n",
    "    shared_input_hidden_weights=True, shared_intra_layer_weight_quant=True,\n",
    "    io_quant=None, bias_quant=None, gate_acc_quant=None, sigmoid_quant=None, tanh_quant=None, cell_state_quant=None)\n",
    "export_path = 'quant_lstm_weight_only_bidirectional_2_layers_shared_q_ih.onnx'\n",
    "exported_model = export_onnx_qcdq(quant_lstm_weight_only_bidirectional_2_layers, (torch.randn(5, 1, 10)), opset_version=14, export_path=export_path)"
   ]
  },
  {
   "cell_type": "code",
   "execution_count": null,
   "metadata": {
    "tags": [
     "skip-execution"
    ]
   },
   "outputs": [],
   "source": [
    "show_netron(export_path, 8087)"
   ]
  },
  {
   "attachments": {},
   "cell_type": "markdown",
   "metadata": {},
   "source": [
    "### QuantLSTM full quantization export\n",
    "\n",
    "For use case (2) we export to QONNX. Weight quantization is represented with `Quant` nodes, while a custom quantized LSTM operator `QuantLSTMCell` operator is generated for the recurrent cell. Note that currently `QuantLSTMCell` is not yet supported for execution in the `qonnx` library. In a future version of Brevitas, `QuantLSTMCell` will instead be lowered to a series of standard ops + `Quant` nodes. For the purpose example, we keep all quantizers at default:"
   ]
  },
  {
   "cell_type": "code",
   "execution_count": 26,
   "metadata": {},
   "outputs": [
    {
     "name": "stdout",
     "output_type": "stream",
     "text": [
      "Serving 'quant_lstm.onnx' at http://localhost:8088\n"
     ]
    },
    {
     "data": {
      "text/html": [
       "\n",
       "        <iframe\n",
       "            width=\"100%\"\n",
       "            height=\"400\"\n",
       "            src=\"http://localhost:8088/\"\n",
       "            frameborder=\"0\"\n",
       "            allowfullscreen\n",
       "            \n",
       "        ></iframe>\n",
       "        "
      ],
      "text/plain": [
       "<IPython.lib.display.IFrame at 0x1f107514e50>"
      ]
     },
     "execution_count": 26,
     "metadata": {},
     "output_type": "execute_result"
    }
   ],
   "source": [
    "import torch\n",
    "from brevitas.nn import QuantLSTM\n",
    "from brevitas.export import export_qonnx\n",
    "\n",
    "quant_lstm = QuantLSTM(input_size=10, hidden_size=20)\n",
    "export_path = 'quant_lstm.onnx'\n",
    "exported_model = export_qonnx(quant_lstm, (torch.randn(5, 1, 10)), export_path=export_path)"
   ]
  },
  {
   "cell_type": "code",
   "execution_count": null,
   "metadata": {
    "tags": [
     "skip-execution"
    ]
   },
   "outputs": [],
   "source": [
    "show_netron(export_path, 8088)"
   ]
  },
  {
   "attachments": {},
   "cell_type": "markdown",
   "metadata": {},
   "source": [
    "`QuantLSTMCell` takes the following series of inputs. \n",
    "\n",
    "- quant_input, \n",
    "- quant_hidden_state, \n",
    "- quant_cell_state,\n",
    "- quant_weight_ii, \n",
    "- quant_weight_if,\n",
    "- quant_weight_ic,\n",
    "- quant_weight_io,\n",
    "- quant_weight_hi, \n",
    "- quant_weight_hf,\n",
    "- quant_weight_hc,\n",
    "- quant_weight_ho,\n",
    "- quant_bias_input,\n",
    "- quant_bias_forget,\n",
    "- quant_bias_cell,\n",
    "- quant_bias_output,\n",
    "- output_scale, \n",
    "- output_zero_point, \n",
    "- output_bit_width, \n",
    "- cell_state_scale, \n",
    "- cell_state_zero_point, \n",
    "- cell_state_bit_width, \n",
    "- input_acc_scale, \n",
    "- input_acc_zero_point,\n",
    "- input_acc_bit_width, \n",
    "- forget_acc_scale, \n",
    "- forget_acc_zero_point, \n",
    "- forget_acc_bit_width, \n",
    "- cell_acc_scale, \n",
    "- cell_acc_zero_point, \n",
    "- cell_acc_bit_width, \n",
    "- output_acc_scale, \n",
    "- output_acc_zero_point, \n",
    "- output_acc_bit_width, \n",
    "- input_sigmoid_scale, \n",
    "- input_sigmoid_zero_point, \n",
    "- input_sigmoid_bit_width, \n",
    "- forget_sigmoid_scale, \n",
    "- forget_sigmoid_zero_point, \n",
    "- forget_sigmoid_bit_width, \n",
    "- cell_tanh_scale, \n",
    "- cell_tanh_zero_point, \n",
    "- cell_tanh_bit_width, \n",
    "- output_sigmoid_scale, \n",
    "- output_sigmoid_zero_point, \n",
    "- output_sigmoid_bit_width, \n",
    "- hidden_state_tanh_scale, \n",
    "- hidden_state_tanh_zero_point, \n",
    "- hidden_state_tanh_bit_width"
   ]
  },
  {
   "attachments": {},
   "cell_type": "markdown",
   "metadata": {},
   "source": [
    "All previous use cases illustrated for the weight-only quantization scenario are also supported."
   ]
  }
 ],
 "metadata": {
  "kernelspec": {
   "display_name": "pytorch_latest",
   "language": "python",
   "name": "python3"
  },
  "language_info": {
   "codemirror_mode": {
    "name": "ipython",
    "version": 3
   },
   "file_extension": ".py",
   "mimetype": "text/x-python",
   "name": "python",
   "nbconvert_exporter": "python",
   "pygments_lexer": "ipython3",
   "version": "3.7.5 (default, Oct 25 2019, 15:51:11) \n[GCC 7.3.0]"
  },
  "orig_nbformat": 4,
  "vscode": {
   "interpreter": {
    "hash": "c90b4b2913cf255302969887b74954c34035fee81e7901b217735b8a389ceb78"
   }
  }
 },
 "nbformat": 4,
 "nbformat_minor": 2
}
