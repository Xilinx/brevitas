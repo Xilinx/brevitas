{
 "cells": [
  {
   "cell_type": "markdown",
   "metadata": {
    "pycharm": {
     "name": "#%% md\n"
    }
   },
   "source": [
    "# Requirements"
   ]
  },
  {
   "cell_type": "markdown",
   "metadata": {
    "pycharm": {
     "name": "#%% md\n"
    }
   },
   "source": [
    "Brevitas requires Python 3.7+ and PyTorch 1.5.1+ and can be installed from PyPI with `pip install brevitas`. \n",
    "\n",
    "For this notebook, you will also need to install `onnx`, `onnxruntime`, `onnxoptimizer` and `netron` (for visualization of ONNX models).\n",
    "For this tutorial, PyTorch 1.8.1+ is required."
   ]
  },
  {
   "cell_type": "markdown",
   "metadata": {
    "pycharm": {
     "name": "#%% md\n"
    }
   },
   "source": [
    "# Introduction\n",
    "\n",
    "The main goal of this notebook is to show how to use Brevitas to export your models in the two standards currently supported by ONNX for quantized models: QCDQ and QOps (i.e., `QLinearConv`, `QLinearMatMul`). Once exported, these models can be run using onnxruntime.\n",
    "\n",
    "This notebook doesn't cover QONNX, a custom extension over ONNX with more features for quantization representation that Brevitas can generate as export, which requires the `qonnx` library."
   ]
  },
  {
   "cell_type": "markdown",
   "metadata": {
    "pycharm": {
     "name": "#%% md\n"
    }
   },
   "source": [
    "## QuantizeLinear-Clip-DeQuantizeLinear (QCDQ)\n",
    "\n",
    "QCDQ is a style of representation introduced by Brevitas that extends the standard QDQ representation for quantization in ONNX. In Q(C)DQ export, before each operation, two (or three, in case of clipping) extra ONNX nodes are added:\n",
    "- `QuantizeLinear`: Takes as input a FP tensor, and quantizes it with a given zero-point and scale factor. It returns an (U)INT8 tensor.\n",
    "- `Clip` (Optional): Takes as input an INT8 tensor, and, given ntenger min/max values, restricts its range.\n",
    "- `DeQuantizeLinear`: Takes as input an INT8 tensor, and converts it to its FP equivalent with a given zero-point and scale factor.\n",
    "\n",
    "There are several implications associated with this set of operations:\n",
    "- It is not possible to quantize with a bit-width higher than 8. Although `DequantizeLinear` supports both INT8 and INT32 as input, currently `QuantizeLinear` can only output (U)INT8.\n",
    "- Using only `QuantizeLinear` and `DeDuantizeLinear`, it is possible only to quantize to 8 bit (signed or unsigned).\n",
    "- The addition of the `Clip` function between `QuantizeLinear` and `DeQuantizeLinear`, allows to quantize a tensor to bit-width < 8. This is done by Clipping the INT8 tensor coming out of the `QuantizeLinear` node with the min/max values of the desired bit-width (e.g., for unsigned 3 bit, 1min_val = 01 and 1max_val = 7`).\n",
    "- It is possible to perform both per-tensor and per-channel quantization (requires ONNX Opset >=13).\n",
    "\n",
    "We will go through all these cases with some examples.\n",
    "\n"
   ]
  },
  {
   "cell_type": "markdown",
   "metadata": {
    "pycharm": {
     "name": "#%% md\n"
    }
   },
   "source": [
    "### Basic Example\n",
    "\n",
    "First, we will look at `brevitas.nn.QuantLinear`, a quantized alternative to `torch.nn.Linear`. Similar considerations can also be used for  `QuantConv1d`, `QuantConv2d`,  `QuantConvTranspose1d` and `QuantConvTranspose2d`.\n",
    "\n",
    "Brevitas offers several API to export Pytorch modules into several different formats, all sharing the same interface.\n",
    "The three required arguments are:\n",
    "- The PyTorch model to export\n",
    "- A representative input tensor (or a tuple of input args)\n",
    "- The path where to save the exported model\n"
   ]
  },
  {
   "cell_type": "code",
   "execution_count": 1,
   "metadata": {
    "pycharm": {
     "name": "#%%\n"
    }
   },
   "outputs": [],
   "source": [
    "import netron\n",
    "import time\n",
    "from IPython.display import IFrame\n",
    "\n",
    "def show_netron(model_path, port):\n",
    "    time.sleep(3.)\n",
    "    netron.start(model_path, address=(\"localhost\", port), browse=False)\n",
    "    return IFrame(src=f\"http://localhost:{port}/\", width=\"100%\", height=400)"
   ]
  },
  {
   "cell_type": "code",
   "execution_count": 2,
   "metadata": {
    "pycharm": {
     "name": "#%%\n"
    }
   },
   "outputs": [],
   "source": [
    "import brevitas.nn as qnn\n",
    "import torch\n",
    "from brevitas.export import export_standard_qcdq_onnx\n",
    "\n",
    "IN_CH = 3\n",
    "OUT_CH = 128\n",
    "BATCH_SIZE = 1\n",
    "\n",
    "linear = qnn.QuantLinear(IN_CH, OUT_CH, bias=True)\n",
    "inp = torch.randn(BATCH_SIZE, IN_CH)\n",
    "path = 'quant_linear_qcdq.onnx'\n",
    "\n",
    "exported_model = export_standard_qcdq_onnx(linear, args=inp, export_path=path, opset_version=13)\n"
   ]
  },
  {
   "cell_type": "code",
   "execution_count": 3,
   "metadata": {
    "tags": [
     "skip-execution"
    ],
    "pycharm": {
     "name": "#%%\n"
    }
   },
   "outputs": [
    {
     "name": "stdout",
     "output_type": "stream",
     "text": [
      "Serving 'quant_linear_qcdq.onnx' at http://localhost:8082\n"
     ]
    },
    {
     "data": {
      "text/plain": "<IPython.lib.display.IFrame at 0x196eed3e310>",
      "text/html": "\n        <iframe\n            width=\"100%\"\n            height=\"400\"\n            src=\"http://localhost:8082/\"\n            frameborder=\"0\"\n            allowfullscreen\n            \n        ></iframe>\n        "
     },
     "execution_count": 3,
     "metadata": {},
     "output_type": "execute_result"
    }
   ],
   "source": [
    "show_netron(path, 8082)"
   ]
  },
  {
   "cell_type": "markdown",
   "metadata": {
    "pycharm": {
     "name": "#%% md\n"
    }
   },
   "source": [
    "As it can be seen from the exported ONNX, by default in `QuantLinear` only the weights are quantized, and they go through a Quantize/DequantizeLinear before being used for the `Gemm` operation. Moreover, there is a clipping operation that sets the min/max values for the tensor to ±127. This is because in Brevitas the default weight quantizer (but not the activation one) has the option `narrow_range=True`.\n",
    "This option, in case of signed quantization, makes sure that the quantization interval is perfectly symmetric (otherwise, the minimum integer would be -128), so that it can absorb sign changes (e.g. from batch norm fusion).\n",
    "\n",
    "The input and bias remains in floating point. In QCDQ export this is not a problem since the weights, that are quantized at 8 bit, are dequantized to floating-point before passed as input to the `Gemm` node.\n",
    "\n"
   ]
  },
  {
   "cell_type": "markdown",
   "metadata": {
    "pycharm": {
     "name": "#%% md\n"
    }
   },
   "source": [
    "### Complete Model\n",
    "\n",
    "A similar approach can be used with entire Pytorch models, rather than single layer."
   ]
  },
  {
   "cell_type": "code",
   "execution_count": 8,
   "metadata": {
    "pycharm": {
     "name": "#%%\n"
    }
   },
   "outputs": [],
   "source": [
    "class QuantModel(torch.nn.Module):\n",
    "    def __init__(self) -> None:\n",
    "        super().__init__()\n",
    "        self.linear = qnn.QuantLinear(IN_CH, OUT_CH, bias=True, weight_scaling_per_output_channel=True)\n",
    "        self.act = qnn.QuantReLU()\n",
    "    \n",
    "    def forward(self, inp):\n",
    "        inp = self.linear(inp)\n",
    "        inp = self.act(inp)\n",
    "        return inp\n",
    "\n",
    "model = QuantModel()\n",
    "inp = torch.randn(BATCH_SIZE, IN_CH)\n",
    "path = 'quant_model_qcdq.onnx'\n",
    "\n",
    "exported_model = export_standard_qcdq_onnx(model, args=inp, export_path=path, opset_version=13)"
   ]
  },
  {
   "cell_type": "code",
   "execution_count": null,
   "metadata": {
    "tags": [
     "skip-execution"
    ],
    "pycharm": {
     "name": "#%%\n"
    }
   },
   "outputs": [
    {
     "name": "stdout",
     "output_type": "stream",
     "text": [
      "Stopping http://localhost:8083\n"
     ]
    }
   ],
   "source": [
    "show_netron(path, 8083)"
   ]
  },
  {
   "cell_type": "markdown",
   "metadata": {
    "pycharm": {
     "name": "#%% md\n"
    }
   },
   "source": [
    "We did not specify the argument `output_quant` in our `QuantLinear` layer, thus the output of the layer will be passed directly to the ReLU function without any intermediate re-quantization step.\n",
    "\n",
    "Furthermore, we have defined a per-channel quantization, so the scale factor will be a Tensor rather than a scalar (ONNX opset >= 13 is required for this).\n",
    "\n",
    "Finally, since we are using a `QuantReLU` with default initialization, the output is re-quantized as an UInt8 Tensor.\n"
   ]
  },
  {
   "cell_type": "markdown",
   "metadata": {
    "pycharm": {
     "name": "#%% md\n"
    }
   },
   "source": [
    "### The C in QCDQ (Bitwidth <= 8)\n",
    "\n",
    "As mentioned, Brevitas export expands on the basic QDQ format by adding the `Clip` operation.\n",
    "\n",
    "This operations is inserted between the `QuantizeLinear` and `DequantizeLinear` node, and thus operates on integers.\n",
    "\n",
    "Normally, using only the QDQ format, it would be impossible to export models quantize with less than 8 bit.\n",
    "\n",
    "In Brevitas however, if a quantized layer with bit-width <= 8 is exported, the Clip node will be automatically inserted, with the min/max values computed based on the particular type of quantized performed (i.e., signed vs unsigned, narrow range vs no narrow range, etc.).\n",
    "\n",
    "Even though the Tensor data type will still be a Int8 or UInt8, its values are restricted to the desired bit-width."
   ]
  },
  {
   "cell_type": "code",
   "execution_count": 4,
   "metadata": {
    "pycharm": {
     "name": "#%%\n"
    }
   },
   "outputs": [],
   "source": [
    "class Model(torch.nn.Module):\n",
    "    def __init__(self) -> None:\n",
    "        super().__init__()\n",
    "        self.linear = qnn.QuantLinear(IN_CH, OUT_CH, bias=True, weight_bit_width=3)\n",
    "        self.act = qnn.QuantReLU(bit_width=4)\n",
    "    \n",
    "    def forward(self, inp):\n",
    "        inp = self.linear(inp)\n",
    "        inp = self.act(inp)\n",
    "        return inp\n",
    "\n",
    "model = Model()\n",
    "model.eval()\n",
    "\n",
    "inp = torch.randn(BATCH_SIZE, IN_CH)\n",
    "path = 'quant_model_3b_4b_qcdq.onnx'\n",
    "\n",
    "exported_model = export_standard_qcdq_onnx(model, args=inp, export_path=path, opset_version=13)"
   ]
  },
  {
   "cell_type": "code",
   "execution_count": null,
   "metadata": {
    "tags": [
     "skip-execution"
    ],
    "pycharm": {
     "name": "#%%\n",
     "is_executing": true
    }
   },
   "outputs": [],
   "source": [
    "show_netron(path, 8084)"
   ]
  },
  {
   "cell_type": "markdown",
   "metadata": {
    "pycharm": {
     "name": "#%% md\n"
    }
   },
   "source": [
    "As can be seen from the generated ONNX, the weights of the `QuantLinear` layer are clipped between -3 and 3, considering that we are performing a signed 3 bit quantization, with `narrow_range=True`.\n",
    "\n",
    "Similarly, the output of the QuantReLU is clipped between 0 and 15, since in this case we are doing an unsigned 4 bit quantization."
   ]
  },
  {
   "cell_type": "markdown",
   "metadata": {
    "pycharm": {
     "name": "#%% md\n"
    }
   },
   "source": [
    "## QOps Export\n",
    "Another supported style for exporting quantized operation in ONNX is represented by QOps.\n",
    "\n",
    "Compared to QCDQ, where it is possible to re-use standard floating point nodes (e.g., GEMM or Conv2d) preceeded by QCDQ nodes, with QOps the entire layer is replaced by its quantized counterpart.\n",
    "\n",
    "Opposite to what happens with QCDQ, all elements of the computation in this case have to be quantized: Input, Weight, Bias (if present), and Output tensors.\n",
    "\n",
    "This introduces some contraints on how we define our quantized layers through Brevitas.\n",
    "\n"
   ]
  },
  {
   "cell_type": "code",
   "execution_count": 6,
   "metadata": {
    "pycharm": {
     "name": "#%%\n"
    }
   },
   "outputs": [
    {
     "name": "stderr",
     "output_type": "stream",
     "text": [
      "C:\\Users\\alessand\\Documents\\brevitas\\src\\brevitas\\export\\onnx\\standard\\manager.py:23: UserWarning: ONNX opset version set to 13, override with opset_version=\n",
      "  warnings.warn(f\"ONNX opset version set to {DEFAULT_OPSET}, override with {ka}=\")\n"
     ]
    },
    {
     "data": {
      "text/plain": "ir_version: 7\nproducer_name: \"pytorch\"\nproducer_version: \"1.13.1\"\ngraph {\n  node {\n    output: \"/input_quant/export_handler/Constant_output_0\"\n    name: \"/input_quant/export_handler/Constant\"\n    op_type: \"Constant\"\n    attribute {\n      name: \"value\"\n      t {\n        data_type: 1\n        raw_data: \"\\000\\000\\000<\"\n      }\n      type: TENSOR\n    }\n  }\n  node {\n    output: \"/input_quant/export_handler/Constant_1_output_0\"\n    name: \"/input_quant/export_handler/Constant_1\"\n    op_type: \"Constant\"\n    attribute {\n      name: \"value\"\n      t {\n        data_type: 3\n        raw_data: \"\\000\"\n      }\n      type: TENSOR\n    }\n  }\n  node {\n    input: \"inp.1\"\n    input: \"/input_quant/export_handler/Constant_output_0\"\n    input: \"/input_quant/export_handler/Constant_1_output_0\"\n    output: \"/input_quant/export_handler/QuantizeLinear_output_0\"\n    name: \"/input_quant/export_handler/QuantizeLinear\"\n    op_type: \"QuantizeLinear\"\n  }\n  node {\n    output: \"/linear/export_handler/Constant_output_0\"\n    name: \"/linear/export_handler/Constant\"\n    op_type: \"Constant\"\n    attribute {\n      name: \"value\"\n      t {\n        dims: 128\n        dims: 3\n        dims: 3\n        dims: 3\n        data_type: 3\n        raw_data: \"\\003\\005\\005\\001\\006\\372\\001\\000\\377\\004\\373\\000\\372\\001\\372\\000\\373\\375\\374\\001\\376\\372\\000\\375\\003\\006\\374\\374\\376\\002\\373\\373\\003\\375\\374\\372\\002\\001\\375\\374\\006\\002\\376\\001\\377\\374\\002\\373\\003\\372\\005\\376\\000\\003\\376\\005\\003\\000\\375\\004\\001\\375\\004\\372\\000\\002\\372\\000\\374\\000\\002\\377\\003\\373\\376\\001\\372\\004\\004\\375\\005\\374\\372\\006\\374\\376\\377\\006\\003\\002\\004\\000\\372\\005\\377\\375\\003\\006\\003\\371\\002\\375\\374\\005\\375\\004\\006\\002\\001\\006\\373\\000\\004\\377\\006\\001\\377\\005\\004\\372\\373\\374\\002\\002\\000\\006\\000\\002\\000\\006\\001\\376\\374\\374\\001\\007\\005\\376\\375\\003\\001\\003\\376\\372\\373\\002\\000\\007\\373\\374\\374\\001\\374\\003\\373\\373\\375\\001\\000\\373\\000\\372\\376\\375\\372\\371\\373\\376\\005\\002\\006\\374\\007\\372\\374\\006\\004\\377\\001\\375\\377\\005\\375\\005\\377\\001\\374\\002\\371\\003\\000\\372\\002\\371\\004\\376\\376\\374\\375\\375\\374\\373\\002\\376\\002\\372\\375\\374\\002\\373\\373\\374\\374\\005\\001\\004\\373\\002\\004\\377\\001\\372\\374\\002\\005\\376\\377\\006\\373\\005\\002\\003\\006\\002\\002\\373\\003\\377\\004\\373\\377\\000\\372\\001\\000\\372\\376\\372\\371\\377\\377\\375\\003\\374\\375\\000\\376\\000\\005\\373\\377\\007\\376\\377\\374\\004\\004\\006\\372\\007\\000\\377\\000\\372\\377\\000\\371\\001\\373\\372\\007\\004\\007\\002\\002\\002\\003\\002\\377\\372\\374\\005\\005\\000\\000\\003\\376\\006\\005\\005\\003\\374\\003\\005\\376\\375\\373\\375\\376\\373\\376\\002\\005\\006\\005\\003\\372\\007\\004\\000\\005\\375\\376\\005\\375\\004\\006\\001\\006\\005\\374\\006\\373\\007\\003\\373\\372\\002\\374\\003\\374\\373\\004\\375\\375\\374\\003\\006\\006\\002\\005\\375\\372\\371\\372\\376\\000\\003\\003\\375\\371\\372\\371\\374\\002\\007\\000\\377\\007\\376\\376\\003\\005\\006\\375\\375\\373\\006\\374\\004\\001\\371\\377\\006\\007\\003\\371\\372\\000\\375\\001\\372\\002\\375\\003\\372\\375\\001\\000\\001\\374\\000\\371\\003\\375\\004\\003\\375\\374\\005\\001\\377\\003\\001\\005\\373\\002\\377\\374\\005\\005\\374\\004\\000\\000\\373\\377\\000\\372\\372\\372\\371\\371\\375\\377\\000\\372\\371\\002\\005\\374\\005\\377\\372\\377\\000\\373\\002\\376\\375\\375\\376\\372\\375\\376\\376\\002\\006\\373\\376\\005\\002\\006\\375\\005\\376\\003\\005\\002\\003\\005\\001\\007\\004\\004\\004\\002\\000\\376\\005\\377\\375\\005\\373\\002\\376\\005\\004\\376\\001\\000\\377\\003\\374\\375\\377\\376\\003\\005\\373\\007\\000\\006\\372\\002\\376\\005\\372\\371\\005\\374\\373\\005\\376\\000\\377\\005\\002\\000\\375\\002\\002\\375\\371\\003\\003\\373\\002\\001\\000\\372\\373\\001\\006\\371\\372\\376\\377\\004\\002\\002\\002\\005\\003\\004\\005\\376\\000\\373\\007\\001\\374\\372\\007\\001\\006\\372\\005\\003\\377\\376\\371\\377\\004\\377\\007\\007\\373\\003\\000\\007\\000\\377\\003\\375\\371\\374\\371\\001\\003\\003\\006\\371\\372\\006\\002\\002\\375\\000\\007\\372\\376\\001\\001\\374\\003\\376\\376\\003\\000\\375\\000\\005\\006\\003\\006\\372\\007\\375\\005\\003\\006\\374\\000\\373\\000\\001\\006\\001\\372\\007\\004\\375\\373\\000\\376\\372\\373\\003\\005\\002\\375\\007\\376\\007\\005\\001\\375\\000\\001\\006\\376\\374\\375\\001\\376\\376\\007\\006\\005\\006\\373\\375\\000\\377\\006\\002\\004\\376\\376\\002\\000\\003\\376\\005\\373\\005\\003\\377\\007\\004\\004\\006\\005\\004\\374\\372\\001\\373\\000\\374\\375\\003\\376\\001\\375\\377\\000\\000\\004\\000\\375\\000\\006\\003\\372\\005\\373\\001\\004\\007\\372\\007\\006\\004\\001\\004\\374\\006\\006\\006\\373\\377\\002\\004\\006\\372\\374\\371\\007\\372\\002\\004\\376\\374\\006\\006\\000\\003\\000\\376\\374\\376\\374\\376\\372\\371\\001\\000\\006\\374\\377\\374\\003\\005\\376\\375\\006\\372\\006\\001\\371\\004\\377\\372\\372\\373\\373\\376\\376\\373\\003\\376\\372\\000\\376\\007\\371\\003\\373\\006\\002\\374\\371\\003\\375\\000\\002\\002\\372\\376\\377\\002\\375\\371\\005\\371\\372\\377\\006\\000\\376\\000\\006\\376\\374\\003\\003\\373\\002\\373\\006\\375\\003\\375\\004\\376\\377\\002\\000\\374\\374\\004\\371\\000\\375\\007\\006\\371\\004\\001\\004\\377\\376\\371\\006\\374\\000\\007\\007\\001\\007\\376\\007\\373\\374\\377\\001\\005\\376\\003\\371\\006\\003\\000\\004\\001\\003\\000\\377\\373\\376\\375\\004\\006\\006\\376\\376\\372\\371\\000\\377\\372\\000\\006\\375\\374\\007\\002\\375\\373\\373\\004\\374\\376\\004\\005\\003\\002\\376\\000\\004\\377\\004\\377\\005\\005\\372\\371\\001\\002\\376\\003\\000\\006\\373\\375\\372\\000\\374\\007\\006\\373\\006\\373\\006\\003\\004\\376\\003\\376\\003\\372\\372\\003\\373\\372\\002\\373\\003\\004\\001\\006\\000\\372\\377\\375\\374\\377\\376\\002\\375\\372\\377\\373\\377\\372\\375\\375\\376\\001\\003\\002\\003\\007\\374\\374\\003\\377\\006\\376\\003\\001\\002\\005\\373\\372\\007\\000\\000\\002\\004\\372\\001\\004\\377\\373\\007\\372\\000\\372\\000\\377\\371\\374\\007\\005\\377\\005\\375\\007\\373\\006\\372\\373\\006\\001\\377\\002\\376\\006\\003\\005\\000\\003\\376\\006\\001\\374\\005\\372\\376\\005\\005\\005\\373\\372\\006\\006\\001\\005\\003\\001\\002\\377\\377\\003\\003\\372\\375\\005\\000\\006\\374\\004\\376\\000\\005\\006\\007\\376\\000\\377\\000\\372\\005\\376\\375\\372\\000\\373\\002\\003\\005\\002\\000\\006\\001\\373\\375\\377\\005\\377\\377\\376\\373\\374\\007\\375\\000\\377\\002\\376\\003\\374\\001\\373\\006\\000\\374\\374\\373\\004\\372\\372\\002\\003\\000\\006\\004\\377\\002\\000\\375\\006\\001\\372\\006\\004\\001\\002\\375\\007\\373\\003\\373\\006\\376\\006\\377\\005\\000\\002\\372\\377\\005\\372\\376\\001\\001\\002\\372\\003\\376\\007\\000\\000\\005\\377\\375\\377\\373\\002\\000\\000\\006\\003\\004\\007\\001\\375\\373\\377\\001\\373\\003\\001\\372\\001\\374\\376\\007\\007\\372\\371\\000\\376\\372\\004\\375\\004\\000\\006\\004\\372\\371\\005\\004\\373\\002\\006\\372\\373\\005\\372\\004\\373\\375\\007\\006\\377\\005\\373\\374\\003\\004\\377\\005\\372\\377\\375\\000\\006\\373\\375\\003\\004\\007\\005\\002\\003\\002\\003\\002\\372\\002\\377\\371\\000\\005\\004\\373\\374\\004\\006\\001\\000\\375\\004\\377\\376\\373\\003\\006\\374\\003\\373\\374\\374\\001\\377\\002\\372\\003\\375\\372\\003\\000\\374\\006\\374\\373\\001\\375\\375\\375\\002\\376\\374\\377\\375\\373\\006\\003\\374\\001\\377\\373\\374\\373\\376\\004\\004\\003\\371\\003\\004\\377\\375\\000\\006\\007\\374\\005\\376\\377\\376\\002\\004\\372\\001\\372\\002\\374\\377\\002\\376\\372\\006\\377\\375\\372\\377\\001\\374\\006\\004\\003\\002\\375\\003\\007\\373\\374\\007\\002\\003\\002\\004\\005\\376\\376\\375\\372\\006\\374\\001\\372\\001\\007\\002\\000\\376\\000\\372\\377\\002\\003\\372\\000\\005\\001\\000\\005\\372\\002\\000\\001\\374\\371\\006\\003\\006\\001\\002\\376\\003\\373\\006\\377\\374\\372\\002\\373\\003\\003\\373\\003\\372\\005\\002\\005\\004\\375\\004\\372\\375\\004\\003\\373\\377\\006\\376\\371\\002\\373\\000\\004\\003\\001\\372\\003\\377\\003\\004\\003\\374\\371\\000\\373\\001\\001\\373\\371\\376\\376\\376\\372\\004\\372\\004\\006\\374\\373\\375\\371\\005\\374\\005\\001\\003\\373\\371\\006\\004\\003\\006\\003\\002\\376\\372\\001\\005\\001\\004\\003\\003\\376\\004\\374\\374\\376\\002\\000\\372\\001\\377\\001\\000\\374\\000\\372\\372\\002\\374\\006\\372\\006\\002\\005\\006\\376\\001\\376\\376\\375\\003\\376\\007\\373\\007\\003\\373\\005\\373\\002\\000\\004\\375\\371\\374\\007\\003\\377\\372\\001\\006\\006\\374\\006\\002\\005\\374\\372\\375\\000\\000\\372\\377\\005\\004\\004\\377\\372\\000\\376\\371\\007\\374\\005\\002\\000\\003\\371\\375\\003\\371\\376\\002\\375\\002\\376\\007\\002\\000\\374\\372\\005\\001\\004\\375\\375\\007\\371\\375\\003\\376\\377\\007\\002\\373\\372\\375\\000\\000\\372\\004\\003\\374\\002\\002\\002\\007\\373\\375\\004\\377\\371\\375\\373\\376\\006\\377\\377\\374\\375\\372\\002\\004\\003\\001\\371\\003\\377\\002\\375\\000\\377\\377\\375\\372\\002\\377\\003\\006\\002\\376\\006\\004\\372\\002\\003\\375\\005\\375\\372\\373\\375\\004\\003\\007\\374\\374\\376\\374\\372\\377\\002\\374\\007\\001\\002\\372\\002\\000\\001\\373\\000\\002\\000\\006\\005\\005\\002\\006\\006\\375\\372\\002\\001\\377\\376\\004\\006\\004\\002\\004\\001\\371\\375\\003\\377\\373\\003\\006\\004\\007\\375\\005\\002\\006\\001\\007\\006\\001\\003\\007\\002\\001\\005\\001\\000\\372\\374\\000\\376\\001\\374\\374\\375\\002\\005\\002\\000\\002\\006\\377\\001\\375\\006\\372\\003\\371\\005\\376\\005\\007\\002\\006\\376\\005\\376\\376\\374\\003\\371\\004\\006\\000\\004\\006\\373\\003\\376\\006\\002\\373\\001\\005\\377\\372\\375\\375\\005\\376\\372\\001\\001\\376\\372\\001\\003\\000\\375\\000\\007\\004\\377\\373\\002\\005\\375\\003\\372\\000\\006\\006\\002\\001\\001\\002\\372\\006\\006\\003\\371\\006\\004\\375\\372\\373\\004\\005\\004\\376\\373\\000\\005\\000\\376\\006\\001\\006\\003\\005\\006\\005\\375\\006\\002\\376\\376\\372\\373\\376\\375\\000\\005\\376\\001\\000\\007\\001\\003\\001\\003\\373\\376\\373\\373\\375\\001\\372\\007\\377\\004\\373\\005\\005\\375\\375\\003\\373\\371\\376\\373\\377\\377\\376\\006\\003\\376\\003\\377\\377\\007\\376\\377\\004\\372\\376\\374\\371\\371\\377\\372\\006\\372\\006\\001\\377\\375\\372\\001\\007\\376\\377\\003\\377\\373\\371\\373\\372\\006\\376\\003\\375\\374\\374\\002\\004\\006\\376\\000\\375\\001\\003\\376\\001\\002\\006\\376\\377\\000\\004\\003\\007\\373\\377\\377\\005\\002\\372\\002\\005\\375\\375\\372\\003\\376\\374\\003\\002\\373\\377\\374\\003\\375\\005\\376\\002\\006\\377\\005\\005\\002\\006\\003\\372\\007\\375\\371\\375\\375\\373\\004\\005\\377\\372\\000\\005\\005\\374\\005\\003\\006\\005\\375\\000\\000\\002\\374\\004\\003\\376\\372\\376\\373\\005\\002\\007\\375\\371\\002\\375\\003\\373\\377\\372\\376\\005\\377\\374\\001\\372\\003\\002\\377\\002\\373\\003\\371\\000\\007\\373\\004\\376\\002\\000\\000\\002\\005\\000\\375\\374\\373\\002\\374\\377\\375\\377\\004\\002\\007\\007\\374\\377\\007\\377\\001\\007\\377\\006\\002\\005\\373\\005\\371\\005\\000\\371\\000\\002\\376\\002\\001\\375\\006\\372\\004\\000\\004\\005\\373\\001\\373\\004\\004\\005\\006\\372\\373\\371\\001\\374\\373\\000\\003\\005\\371\\003\\372\\007\\003\\374\\372\\003\\003\\006\\376\\000\\002\\002\\375\\374\\375\\004\\371\\001\\006\\001\\004\\002\\003\\001\\377\\003\\376\\371\\004\\005\\373\\371\\004\\373\\004\\371\\374\\377\\003\\002\\003\\002\\003\\005\\000\\007\\001\\373\\371\\372\\001\\001\\000\\373\\376\\373\\005\\000\\375\\374\\377\\003\\373\\000\\003\\375\\372\\001\\006\\003\\375\\002\\372\\372\\374\\005\\373\\377\\004\\006\\000\\000\\006\\005\\005\\377\\375\\375\\374\\376\\001\\007\\004\\371\\002\\005\\377\\371\\001\\376\\006\\001\\000\\000\\000\\377\\000\\005\\005\\004\\002\\002\\372\\002\\374\\374\\006\\377\\006\\006\\007\\373\\003\\001\\005\\375\\002\\001\\000\\007\\376\\375\\000\\002\\373\\006\\001\\372\\005\\374\\005\\374\\006\\373\\377\\000\\375\\000\\372\\372\\374\\000\\003\\005\\002\\005\\000\\377\\004\\377\\006\\004\\004\\002\\003\\003\\373\\377\\375\\376\\377\\001\\373\\001\\374\\377\\372\\007\\374\\006\\377\\374\\001\\376\\006\\005\\006\\373\\375\\003\\006\\001\\375\\374\\376\\375\\006\\376\\000\\006\\001\\375\\374\\000\\372\\006\\001\\001\\376\\372\\372\\377\\377\\371\\372\\374\\007\\375\\376\\376\\002\\002\\371\\372\\376\\004\\374\\377\\371\\003\\001\\371\\004\\374\\002\\000\\373\\376\\372\\377\\004\\000\\373\\006\\374\\372\\375\\377\\377\\000\\007\\005\\376\\004\\371\\373\\374\\376\\376\\373\\007\\377\\375\\004\\004\\004\\002\\371\\374\\374\\001\\005\\375\\001\\001\\005\\002\\007\\005\\001\\001\\001\\003\\007\\006\\005\\004\\374\\002\\006\\005\\001\\001\\376\\375\\372\\375\\376\\374\\005\\374\\002\\001\\372\\003\\002\\006\\372\\002\\377\\376\\005\\006\\001\\375\\003\\375\\006\\372\\001\\003\\376\\372\\003\\373\\006\\000\\372\\002\\373\\372\\000\\007\\003\\002\\003\\374\\000\\375\\000\\005\\376\\374\\004\\375\\002\\003\\004\\006\\000\\004\\377\\006\\374\\002\\000\\377\\001\\373\\377\\006\\377\\374\\000\\003\\371\\373\\005\\007\\374\\004\\003\\373\\001\\001\\004\\376\\000\\005\\000\\377\\000\\372\\001\\003\\001\\004\\377\\372\\377\\373\\005\\376\\003\\377\\377\\003\\372\\376\\004\\006\\006\\004\\372\\373\\003\\005\\372\\001\\375\\374\\006\\371\\002\\376\\000\\377\\004\\377\\004\\377\\371\\001\\372\\374\\005\\004\\002\\374\\003\\006\\001\\377\\006\\003\\373\\000\\372\\004\\372\\372\\001\\000\\374\\373\\374\\372\\006\\000\\002\\007\\005\\374\\000\\006\\373\\002\\004\\377\\374\\000\\376\\003\\375\\000\\375\\001\\373\\004\\371\\377\\000\\006\\375\\376\\005\\372\\003\\376\\373\\371\\375\\000\\373\\004\\006\\375\\002\\373\\001\\377\\005\\000\\000\\376\\004\\005\\001\\377\\000\\375\\006\\372\\002\\000\\372\\003\\377\\006\\000\\006\\376\\006\\371\\000\\374\\006\\000\\004\\002\\003\\000\\001\\006\\006\\002\\004\\001\\372\\000\\376\\374\\003\\374\\376\\372\\374\\374\\377\\374\\005\\002\\376\\007\\006\\374\\375\\001\\003\\003\\377\\005\\373\\377\\007\\374\\377\\371\\006\\374\\004\\377\\001\\003\\005\\377\\000\\375\\004\\004\\002\\372\\377\\375\\373\\375\\006\\001\\004\\373\\373\\373\\377\\377\\003\\005\\372\\374\\375\\002\\373\\373\\372\\000\\006\\004\\005\\000\\005\\005\\371\\003\\003\\003\\372\\374\\007\\376\\005\\004\\006\\372\\374\\003\\001\\003\\376\\371\\000\\372\\374\\377\\007\\372\\373\\005\\372\\002\\003\\375\\006\\004\\000\\002\\373\\374\\374\\001\\005\\375\\000\\004\\376\\003\\371\\371\\375\\001\\377\\000\\377\\004\\002\\003\\372\\002\\003\\377\\377\\373\\004\\005\\375\\007\\372\\371\\006\\001\\001\\375\\373\\003\\002\\006\\002\\006\\374\\001\\007\\003\\000\\002\\374\\373\\376\\377\\005\\001\\003\\371\\004\\376\\377\\374\\001\\001\\377\\006\\372\\007\\006\\005\\372\\005\\375\\377\\372\\003\\374\\002\\375\\005\\005\\006\\006\\006\\006\\377\\000\\375\\375\\377\\005\\376\\000\\002\\373\\373\\000\\003\\004\\372\\004\\007\\000\\001\\372\\376\\001\\000\\005\\002\\004\\001\\001\\000\\006\\002\\005\\004\\004\\377\\372\\376\\377\\002\\001\\372\\000\\000\\001\\375\\000\\001\\003\\376\\376\\007\\004\\000\\000\\006\\372\\376\\004\\372\\002\\375\\006\\375\\005\\375\\003\\004\\376\\003\\375\\377\\375\\373\\003\\000\\001\\001\\373\\375\\000\\374\\377\\000\\004\\001\\374\\373\\376\\373\\001\\376\\372\\002\\006\\376\\005\\006\\377\\376\\372\\373\\373\\377\\375\\007\\377\\005\\006\\376\\001\\372\\376\\005\\003\\005\\000\\377\\374\\006\\004\\377\\005\\377\\375\\002\\374\\376\\001\\004\\001\\002\\371\\006\\004\\000\\003\\004\\004\\006\\377\\375\\006\\005\\002\\375\\002\\001\\003\\372\\003\\001\\000\\377\\372\\001\\003\\005\\372\\003\\006\\377\\001\\004\\002\\376\\001\\001\\374\\000\\001\\376\\001\\373\\002\\000\\006\\004\\007\\372\\003\\000\\007\\377\\000\\000\\002\\004\\372\\372\\006\\373\\371\\375\\005\\003\\377\\373\\373\\002\\003\\000\\376\\004\\005\\006\\376\\373\\002\\376\\376\\000\\373\\003\\004\\372\\000\\000\\006\\001\\375\\005\\001\\003\\006\\006\\373\\371\\006\\377\\374\\005\\377\\004\\004\\371\\374\\373\\372\\005\\377\\375\\002\\373\\371\\003\\375\\374\\000\\373\\377\\004\\003\\372\\006\\375\\007\\003\\005\\371\\000\\371\\376\\371\\001\\375\\001\\005\\001\\372\\372\\006\\007\\004\\006\\373\\002\\373\\005\\003\\000\\002\\006\\006\\375\\373\\000\\372\\000\\375\\001\\001\\375\\006\\373\\003\\371\\000\\373\\376\\003\\001\\004\\001\\375\\003\\000\\005\\004\\000\\002\\007\\375\\376\\373\\376\\004\\376\\376\\377\\006\\001\\002\\371\\371\\002\\000\\003\\001\\374\\374\\372\\003\\001\\372\\377\\372\\004\\375\\004\\005\\000\\005\\001\\006\\371\\372\\005\\004\\002\\006\\000\\000\\006\\001\\004\\377\\006\\376\\002\\373\\001\\002\\374\\376\\373\\006\\371\\373\\006\\000\\375\\377\\000\\371\\005\\373\\007\\004\\373\\006\\004\\005\\003\\376\\371\\000\\007\\374\\000\\001\\001\\375\\002\\005\\372\\000\\003\\002\\376\\000\\007\\004\\376\\005\\001\\005\\005\\006\\006\\001\\006\\005\\374\\003\\373\\006\\003\\005\\000\\005\\372\\376\\001\\002\\003\\004\\374\\374\\007\\372\\373\\000\\001\\371\\004\\375\\007\\000\\003\\371\\374\\374\\000\\372\\002\\372\\007\\001\\003\\373\\007\\000\\005\\374\\376\\002\\373\\373\\374\\001\\005\\377\\001\\007\\004\\372\\004\\001\\004\\002\\372\\373\\004\\002\\001\\003\\376\\000\\377\\003\\002\\377\\003\\377\\007\\377\\000\\002\\006\\006\\004\\374\\005\\006\\004\\376\\003\\376\\371\\372\\377\\376\\375\\005\\377\\003\\371\\375\\003\\377\\006\\001\\376\\373\\004\\005\\002\\003\\002\\006\\375\\377\\372\\375\\371\\372\\377\\376\\372\\372\\000\\373\\007\\004\\371\\000\\373\\003\\000\\005\\373\\373\\375\\374\\001\\004\\000\\002\\375\\000\\372\\006\\003\\376\\000\\376\\001\\005\\000\\005\\001\\007\\372\\001\\001\\001\\003\\002\\375\\000\\373\\007\\374\\375\\376\\000\\377\\373\\001\\375\\002\\372\\000\\371\\002\\374\\374\\372\\001\\376\\006\\000\\374\\005\\006\\000\\377\\373\\007\\376\\000\\376\\373\\000\\004\\004\\371\\376\\003\\375\\375\\006\\374\\004\\372\\000\\375\\004\\375\\001\\004\\006\\005\\004\\002\\376\\377\\006\\374\\372\\007\\003\\372\\372\\001\\006\\377\\001\\372\\003\\001\\007\\377\\376\\002\\372\\376\\002\\372\\000\\006\\003\\004\\376\\001\\372\\376\\003\\374\\000\\371\\005\\000\\004\\375\\374\\373\\372\\004\\374\\371\\372\\002\\000\\004\\002\\000\\004\\376\\005\\375\\003\\002\\007\\004\\372\\374\\000\\000\\377\\374\\003\\000\\375\\006\\374\\001\\374\\372\\003\\003\\003\\005\\374\\375\\376\\377\\373\\372\\377\\007\\004\\372\\377\\372\\376\\373\\004\\377\\375\\005\\004\\000\\373\\375\\371\\002\\006\\000\\004\\000\\375\\372\\005\\373\\375\\371\\372\"\n      }\n      type: TENSOR\n    }\n  }\n  node {\n    output: \"/linear/export_handler/Constant_1_output_0\"\n    name: \"/linear/export_handler/Constant_1\"\n    op_type: \"Constant\"\n    attribute {\n      name: \"value\"\n      t {\n        data_type: 1\n        raw_data: \"U5\\341<\"\n      }\n      type: TENSOR\n    }\n  }\n  node {\n    output: \"/linear/export_handler/Constant_2_output_0\"\n    name: \"/linear/export_handler/Constant_2\"\n    op_type: \"Constant\"\n    attribute {\n      name: \"value\"\n      t {\n        dims: 128\n        data_type: 6\n        raw_data: \"\\226\\377\\377\\377r\\377\\377\\377\\315\\375\\377\\377\\345\\377\\377\\377\\220\\000\\000\\000\\313\\375\\377\\377\\203\\377\\377\\377\\'\\377\\377\\377H\\000\\000\\000\\240\\375\\377\\377\\017\\001\\000\\000Z\\000\\000\\000\\313\\376\\377\\377\\267\\374\\377\\377\\336\\000\\000\\000\\237\\374\\377\\377\\265\\377\\377\\377\\270\\001\\000\\000\\'\\375\\377\\377\\324\\002\\000\\000`\\376\\377\\377\\257\\375\\377\\377\\004\\003\\000\\000\\343\\001\\000\\000\\021\\000\\000\\000\\031\\000\\000\\000\\321\\000\\000\\000t\\001\\000\\000\\035\\375\\377\\377\\210\\001\\000\\000\\376\\376\\377\\377`\\377\\377\\377\\251\\001\\000\\000\\256\\376\\377\\377\\260\\001\\000\\000|\\001\\000\\000m\\375\\377\\377\\353\\374\\377\\377\\345\\375\\377\\377\\340\\002\\000\\000\\322\\375\\377\\377~\\377\\377\\377b\\003\\000\\000\\265\\375\\377\\377q\\001\\000\\000a\\003\\000\\000\\341\\375\\377\\377\\322\\001\\000\\000\\205\\377\\377\\377\\336\\374\\377\\377V\\002\\000\\000\\261\\001\\000\\000(\\377\\377\\377\\000\\001\\000\\000{\\375\\377\\377v\\001\\000\\000D\\002\\000\\000T\\377\\377\\377\\304\\374\\377\\377]\\002\\000\\000\\216\\001\\000\\000v\\376\\377\\377&\\000\\000\\000+\\377\\377\\377\\013\\000\\000\\0007\\375\\377\\3776\\000\\000\\000t\\001\\000\\000\\216\\001\\000\\000N\\003\\000\\000\\300\\002\\000\\000\\025\\000\\000\\000n\\001\\000\\000{\\002\\000\\000R\\376\\377\\377`\\002\\000\\000\\034\\377\\377\\377\\t\\376\\377\\3776\\375\\377\\377k\\002\\000\\000\\010\\001\\000\\000|\\001\\000\\000r\\377\\377\\377\\234\\375\\377\\377l\\377\\377\\377\\002\\002\\000\\000\\025\\376\\377\\377=\\375\\377\\3779\\375\\377\\377\\026\\001\\000\\000\\206\\000\\000\\000\\245\\376\\377\\377f\\376\\377\\377\\321\\002\\000\\000\\314\\000\\000\\000\\t\\000\\000\\000\\201\\002\\000\\000\\016\\002\\000\\000\\327\\375\\377\\377\\217\\375\\377\\377\\370\\376\\377\\377@\\002\\000\\000\\266\\002\\000\\000\\241\\377\\377\\377\\021\\003\\000\\000\\316\\002\\000\\000U\\002\\000\\000\\232\\376\\377\\377\\330\\000\\000\\000\\364\\000\\000\\000\\356\\002\\000\\000\\265\\376\\377\\377\\202\\376\\377\\377K\\002\\000\\000\\317\\376\\377\\377G\\376\\377\\377\\317\\377\\377\\377\\225\\376\\377\\377\\014\\001\\000\\000\\353\\001\\000\\000\\205\\002\\000\\000\\227\\375\\377\\377\\001\\002\\000\\000\\260\\376\\377\\377\\014\\000\\000\\000\\305\\001\\000\\000\\226\\374\\377\\377\\222\\376\\377\\377\"\n      }\n      type: TENSOR\n    }\n  }\n  node {\n    input: \"/input_quant/export_handler/QuantizeLinear_output_0\"\n    input: \"/input_quant/export_handler/Constant_output_0\"\n    input: \"/input_quant/export_handler/Constant_1_output_0\"\n    input: \"/linear/export_handler/Constant_output_0\"\n    input: \"/linear/export_handler/Constant_1_output_0\"\n    input: \"/input_quant/export_handler/Constant_1_output_0\"\n    input: \"/input_quant/export_handler/Constant_output_0\"\n    input: \"/input_quant/export_handler/Constant_1_output_0\"\n    input: \"/linear/export_handler/Constant_2_output_0\"\n    output: \"/linear/export_handler/QLinearConv_output_0\"\n    name: \"/linear/export_handler/QLinearConv\"\n    op_type: \"QLinearConv\"\n    attribute {\n      name: \"dilations\"\n      ints: 1\n      ints: 1\n      type: INTS\n    }\n    attribute {\n      name: \"group\"\n      i: 1\n      type: INT\n    }\n    attribute {\n      name: \"kernel_shape\"\n      ints: 3\n      ints: 3\n      type: INTS\n    }\n    attribute {\n      name: \"pads\"\n      ints: 0\n      ints: 0\n      ints: 0\n      ints: 0\n      type: INTS\n    }\n    attribute {\n      name: \"strides\"\n      ints: 1\n      ints: 1\n      type: INTS\n    }\n  }\n  node {\n    input: \"/linear/export_handler/QLinearConv_output_0\"\n    input: \"/input_quant/export_handler/Constant_output_0\"\n    input: \"/input_quant/export_handler/Constant_1_output_0\"\n    output: \"10\"\n    name: \"/linear/export_handler/DequantizeLinear\"\n    op_type: \"DequantizeLinear\"\n  }\n  name: \"torch_jit\"\n  input {\n    name: \"inp.1\"\n    type {\n      tensor_type {\n        elem_type: 1\n        shape {\n          dim {\n            dim_value: 1\n          }\n          dim {\n            dim_value: 3\n          }\n          dim {\n            dim_value: 128\n          }\n          dim {\n            dim_value: 128\n          }\n        }\n      }\n    }\n  }\n  output {\n    name: \"10\"\n    type {\n      tensor_type {\n        elem_type: 1\n        shape {\n          dim {\n            dim_value: 1\n          }\n          dim {\n            dim_value: 128\n          }\n          dim {\n            dim_value: 126\n          }\n          dim {\n            dim_value: 126\n          }\n        }\n      }\n    }\n  }\n}\nopset_import {\n  domain: \"\"\n  version: 13\n}"
     },
     "execution_count": 6,
     "metadata": {},
     "output_type": "execute_result"
    }
   ],
   "source": [
    "from brevitas.quant.scaled_int import Int8ActPerTensorFloat, Int32Bias\n",
    "from brevitas.export import export_standard_qop_onnx\n",
    "\n",
    "IN_CH = 3\n",
    "IMG_SIZE = 128\n",
    "OUT_CH = 128\n",
    "BATCH_SIZE = 1\n",
    "\n",
    "class Model(torch.nn.Module):\n",
    "    def __init__(self) -> None:\n",
    "        super().__init__()\n",
    "        self.input_quant = qnn.QuantIdentity(return_quant_tensor=True)\n",
    "        self.linear = qnn.QuantConv2d(\n",
    "            IN_CH, OUT_CH, kernel_size=3, bias=True,\n",
    "            weight_bit_width=4, bias_quant=Int32Bias,\n",
    "            output_quant=Int8ActPerTensorFloat)\n",
    "    \n",
    "    def forward(self, inp):\n",
    "        inp = self.input_quant(inp)\n",
    "        inp = self.linear(inp)\n",
    "        return inp\n",
    "\n",
    "inp = torch.randn(BATCH_SIZE, IN_CH, IMG_SIZE, IMG_SIZE)\n",
    "model = Model() \n",
    "model.eval()\n",
    "\n",
    "\n",
    "export_standard_qop_onnx(\n",
    "    model, args=inp, export_path=\"quant_model_qop.onnx\")"
   ]
  },
  {
   "cell_type": "code",
   "execution_count": null,
   "metadata": {
    "tags": [
     "skip-execution"
    ],
    "pycharm": {
     "name": "#%%\n"
    }
   },
   "outputs": [],
   "source": [
    "show_netron(\"quant_model_qop.onnx\", 8085)"
   ]
  },
  {
   "cell_type": "markdown",
   "metadata": {
    "pycharm": {
     "name": "#%% md\n"
    }
   },
   "source": [
    "In this case, we need to make sure that our input to `QuantLinear` is quantized. Using the approach shown above, with a standalone `QuantIdentity`, Brevitas will add a `QuantizeLinear` node. If `return_quant_tensor=True` is specified in `QuantIdentity`, a `DeQuantizeLinear` node won't be added. Setting `input_quant` in `QuantConv2d` is also an option.\n",
    "\n",
    "Note that the way `return_quant_tensor=True` is interpreted differs between QCDQ export and QOps export. With QCDQ, it doesn't affect the export, as a dequantize node is always generated. With QOps export, it prevents a quantization node from being inserted, so that an integer tensor is passed to the next layer.\n",
    "\n",
    "Moreover, our `QuantLinear` layer has to specify how to re-quantize the output - in this case, with the `Int8ActPerTensorFloat` activation quantizer, otherwise an error will be raised during export-time.\n",
    "\n",
    "Similarly, if the bias is present, it has to be quantized or an error will be raised.\n"
   ]
  },
  {
   "cell_type": "markdown",
   "metadata": {
    "pycharm": {
     "name": "#%% md\n"
    }
   },
   "source": [
    "#### Clipping in QOps\n",
    "\n",
    "Even when using `QLinearConv` and `QLinearMatMul`, it is still possible to represent bit-width < 8 through the use of clipping.\n",
    "\n",
    "However, in this case the `Clip` operation over the weights won't be captured in the exported ONNX graph. Instead, it will be performed at export-time, and the clipped tensor will be exported in the ONNX graph.\n",
    "\n",
    "Examining the last exported model, it is possible to see that the weight tensor, even though it has Int8 has type, has a min/max values equal to `[-7, 7]`, given that it is quantized at 4 bit with narrow_range set to True.\n",
    "\n"
   ]
  },
  {
   "cell_type": "markdown",
   "metadata": {
    "pycharm": {
     "name": "#%% md\n"
    }
   },
   "source": [
    "## ONNX Runtime\n",
    "\n",
    "### QCDQ\n",
    "\n",
    "Since for QCDQ we are only using standard ONNX operation, it is possible to run the exported model using ONNX Runtime."
   ]
  },
  {
   "cell_type": "code",
   "execution_count": 7,
   "metadata": {
    "pycharm": {
     "name": "#%%\n"
    }
   },
   "outputs": [],
   "source": [
    "import onnxruntime as ort\n",
    "\n",
    "class Model(torch.nn.Module):\n",
    "    def __init__(self) -> None:\n",
    "        super().__init__()\n",
    "        self.linear = qnn.QuantLinear(IN_CH, OUT_CH, bias=True, weight_bit_width=3)\n",
    "        self.act = qnn.QuantReLU(bit_width=4)\n",
    "    \n",
    "    def forward(self, inp):\n",
    "        inp = self.linear(inp)\n",
    "        inp = self.act(inp)\n",
    "        return inp\n",
    "\n",
    "model = Model()\n",
    "model.eval()\n",
    "inp = torch.randn(BATCH_SIZE, IN_CH)\n",
    "path = 'quant_model_3b_4b_qcdq.onnx'\n",
    "\n",
    "exported_model = export_standard_qcdq_onnx(model, args=inp, export_path=path, opset_version=13)\n",
    "\n",
    "sess_opt = ort.SessionOptions()\n",
    "sess = ort.InferenceSession(path, sess_opt)\n",
    "input_name = sess.get_inputs()[0].name\n",
    "pred_onx = sess.run(None, {input_name: inp.numpy()})[0]\n",
    "\n",
    "\n",
    "out_brevitas = model(inp)\n",
    "out_ort = torch.tensor(pred_onx)\n",
    "\n",
    "assert torch.allclose(out_brevitas, out_ort)"
   ]
  },
  {
   "cell_type": "markdown",
   "metadata": {
    "pycharm": {
     "name": "#%% md\n"
    }
   },
   "source": [
    "#### QGEMM vs GEMM\n",
    "\n",
    "QCDQ allows to execute low precision fake-quantization in ONNX Runtime, meaning operations actually happen among floating-point values. ONNX Runtime is also capable of optimizing and accelerating a QCDQ model leveraging a int8 based QGEMM kernels in some scenarios.\n",
    "\n",
    "This seems to happen only when using a `QuantLinear` layer, with the following requirements:\n",
    "- Input, Weight, Bias, and Output tensors must be quantized;\n",
    "- Bias tensor must be present, and quantized with bitwidth > 8.\n",
    "- The output of the QuantLinear must be re-quantized.\n",
    "- The output bit-width must be equal to 8.\n",
    "- The input bit-width must be equal to 8.\n",
    "- The weights bit-width can be <= 8.\n",
    "- The weights can be quantized per-tensor or per-channel.\n",
    "\n",
    "We did not observe a similar behavior for other operations such as `QuantConvNd`.\n",
    "\n",
    "An example of a layer that will match this definition is the following:"
   ]
  },
  {
   "cell_type": "code",
   "execution_count": null,
   "metadata": {
    "pycharm": {
     "name": "#%%\n"
    }
   },
   "outputs": [],
   "source": [
    "from brevitas.quant.scaled_int import Int32Bias\n",
    "from brevitas.quant.scaled_int import Int8ActPerTensorFloat\n",
    "\n",
    "qgemm_ort = qnn.QuantLinear(\n",
    "    IN_CH, OUT_CH,\n",
    "    weight_bit_width=5,\n",
    "    input_quant=Int8ActPerTensorFloat,\n",
    "    output_quant=Int8ActPerTensorFloat,\n",
    "    bias=True, bias_quant=Int32Bias)"
   ]
  },
  {
   "cell_type": "markdown",
   "metadata": {
    "pycharm": {
     "name": "#%% md\n"
    }
   },
   "source": [
    "Unfortunately ONNX Runtime does not provide a built-in way to log whether execution goes through unoptimized floating-point GEMM, or int8 QGEMM."
   ]
  },
  {
   "cell_type": "markdown",
   "metadata": {
    "pycharm": {
     "name": "#%% md\n"
    }
   },
   "source": [
    "### QOps\n",
    "\n",
    "As for the QCDQ case, also in this case we are using only standard ONNX operations, thus we can use ONNX Runtime for executing our exported models."
   ]
  },
  {
   "cell_type": "code",
   "execution_count": 12,
   "metadata": {
    "pycharm": {
     "name": "#%%\n"
    }
   },
   "outputs": [
    {
     "name": "stderr",
     "output_type": "stream",
     "text": [
      "C:\\Users\\alessand\\Documents\\brevitas\\src\\brevitas\\export\\onnx\\standard\\manager.py:23: UserWarning: ONNX opset version set to 13, override with opset_version=\n",
      "  warnings.warn(f\"ONNX opset version set to {DEFAULT_OPSET}, override with {ka}=\")\n"
     ]
    }
   ],
   "source": [
    "import onnxruntime as ort\n",
    "\n",
    "class Model(torch.nn.Module):\n",
    "    def __init__(self) -> None:\n",
    "        super().__init__()\n",
    "        self.input_quant = qnn.QuantIdentity(return_quant_tensor=True)\n",
    "        self.conv = qnn.QuantConv2d(\n",
    "            IN_CH, OUT_CH, kernel_size=3, bias=False,\n",
    "            weight_bit_width=4,\n",
    "            output_quant=Int8ActPerTensorFloat, return_quant_tensor=True)\n",
    "    \n",
    "    def forward(self, inp):\n",
    "        inp = self.input_quant(inp)\n",
    "        inp = self.conv(inp)\n",
    "        return inp\n",
    "\n",
    "model = Model()\n",
    "model.eval()\n",
    "inp = torch.randn(BATCH_SIZE, IN_CH, IMG_SIZE, IMG_SIZE)\n",
    "path = 'quant_model_qops_4b_weights.onnx'\n",
    "\n",
    "exported_model = export_standard_qop_onnx(model, args=inp, export_path=path)\n",
    "\n",
    "sess_opt = ort.SessionOptions()\n",
    "sess = ort.InferenceSession(path, sess_opt)\n",
    "input_name = sess.get_inputs()[0].name\n",
    "pred_onx = sess.run(None, {input_name: inp.numpy()})[0]\n",
    "\n",
    "\n",
    "out_brevitas = model(inp).int()\n",
    "out_ort = torch.tensor(pred_onx, dtype=torch.int8)\n",
    "\n",
    "assert torch.allclose(out_brevitas, out_ort, atol=1)"
   ]
  },
  {
   "cell_type": "markdown",
   "metadata": {
    "pycharm": {
     "name": "#%% md\n"
    }
   },
   "source": [
    "Note a few things. `QuantConv2d` defines `return_quant_tensor=True` so that the exported ONNX model doesn't have a dequantize node at the end. At the same time, within Brevitas, `return_quant_tensor=True` means the PyTorch model returns a Brevitas `QuantTensor`, from which we are taking the `int` representation. In this case, before comparing the results, we first convert floating point input to its integer representation, using the scale factor and zero point present in the QuantTensor.\n",
    "\n",
    "Due to differences in how the computation is performed between Brevitas and ONNX Runtime, it might happen the two results are slightly different (since Brevitas uses a style closer to QCDQ, rather than operating between integers), thus we added a tolerance for off-by-1 errors."
   ]
  }
 ],
 "metadata": {
  "kernelspec": {
   "display_name": "Python 3.6.9 64-bit",
   "language": "python",
   "name": "python3"
  },
  "language_info": {
   "codemirror_mode": {
    "name": "ipython",
    "version": 3
   },
   "file_extension": ".py",
   "mimetype": "text/x-python",
   "name": "python",
   "nbconvert_exporter": "python",
   "pygments_lexer": "ipython3",
   "version": "3.6.9"
  },
  "orig_nbformat": 4,
  "vscode": {
   "interpreter": {
    "hash": "31f2aee4e71d21fbe5cf8b01ff0e069b9275f58929596ceb00d14d90e3e16cd6"
   }
  }
 },
 "nbformat": 4,
 "nbformat_minor": 2
}